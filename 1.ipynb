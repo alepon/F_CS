{
 "cells": [
  {
   "cell_type": "code",
   "execution_count": 10,
   "metadata": {
    "collapsed": true
   },
   "outputs": [],
   "source": [
    "import pandas as pd\n",
    "import numpy as np"
   ]
  },
  {
   "cell_type": "code",
   "execution_count": 4,
   "metadata": {},
   "outputs": [],
   "source": [
    "movie = pd.read_csv('tmdb_5000_movies.csv')\n",
    "credit = pd.read_csv('tmdb_5000_credits.csv')"
   ]
  },
  {
   "cell_type": "markdown",
   "metadata": {},
   "source": [
    "For each movie, compute the number of cast members"
   ]
  },
  {
   "cell_type": "code",
   "execution_count": 77,
   "metadata": {
    "collapsed": true
   },
   "outputs": [],
   "source": [
    "cast = pd.DataFrame()\n",
    "cast_ = pd.DataFrame()\n",
    "for index in credit.index:\n",
    "    json = credit['cast'][index]\n",
    "    movie_id = credit['movie_id'][index]\n",
    "    title = credit['title'][index]\n",
    "    cast_ = pd.read_json(json)\n",
    "    cast_['movie_id'] = movie_id\n",
    "    cast_['title'] = title\n",
    "    concat =[cast, cast_]\n",
    "    cast = pd.concat(concat)\n",
    "number = cast.groupby(['movie_id', 'title']).count()['cast_id']"
   ]
  }
 ],
 "metadata": {
  "kernelspec": {
   "display_name": "Python 3",
   "language": "python",
   "name": "python3"
  },
  "language_info": {
   "codemirror_mode": {
    "name": "ipython",
    "version": 3
   },
   "file_extension": ".py",
   "mimetype": "text/x-python",
   "name": "python",
   "nbconvert_exporter": "python",
   "pygments_lexer": "ipython3",
   "version": "3.6.2"
  }
 },
 "nbformat": 4,
 "nbformat_minor": 2
}
