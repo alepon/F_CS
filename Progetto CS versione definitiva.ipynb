{
 "cells": [
  {
   "cell_type": "code",
   "execution_count": 1,
   "metadata": {
    "collapsed": true
   },
   "outputs": [],
   "source": [
    "import pandas as pd\n",
    "import numpy as np"
   ]
  },
  {
   "cell_type": "code",
   "execution_count": 2,
   "metadata": {
    "collapsed": true
   },
   "outputs": [],
   "source": [
    "movies = pd.read_csv('tmdb_5000_movies.csv')\n",
    "credits = pd.read_csv('tmdb_5000_credits.csv')"
   ]
  },
  {
   "cell_type": "code",
   "execution_count": 3,
   "metadata": {},
   "outputs": [
    {
     "data": {
      "text/html": [
       "<div>\n",
       "<style>\n",
       "    .dataframe thead tr:only-child th {\n",
       "        text-align: right;\n",
       "    }\n",
       "\n",
       "    .dataframe thead th {\n",
       "        text-align: left;\n",
       "    }\n",
       "\n",
       "    .dataframe tbody tr th {\n",
       "        vertical-align: top;\n",
       "    }\n",
       "</style>\n",
       "<table border=\"1\" class=\"dataframe\">\n",
       "  <thead>\n",
       "    <tr style=\"text-align: right;\">\n",
       "      <th></th>\n",
       "      <th>budget</th>\n",
       "      <th>genres</th>\n",
       "      <th>homepage</th>\n",
       "      <th>id</th>\n",
       "      <th>keywords</th>\n",
       "      <th>original_language</th>\n",
       "      <th>original_title</th>\n",
       "      <th>overview</th>\n",
       "      <th>popularity</th>\n",
       "      <th>production_companies</th>\n",
       "      <th>production_countries</th>\n",
       "      <th>release_date</th>\n",
       "      <th>revenue</th>\n",
       "      <th>runtime</th>\n",
       "      <th>spoken_languages</th>\n",
       "      <th>status</th>\n",
       "      <th>tagline</th>\n",
       "      <th>title</th>\n",
       "      <th>vote_average</th>\n",
       "      <th>vote_count</th>\n",
       "    </tr>\n",
       "  </thead>\n",
       "  <tbody>\n",
       "    <tr>\n",
       "      <th>0</th>\n",
       "      <td>237000000</td>\n",
       "      <td>[{\"id\": 28, \"name\": \"Action\"}, {\"id\": 12, \"nam...</td>\n",
       "      <td>http://www.avatarmovie.com/</td>\n",
       "      <td>19995</td>\n",
       "      <td>[{\"id\": 1463, \"name\": \"culture clash\"}, {\"id\":...</td>\n",
       "      <td>en</td>\n",
       "      <td>Avatar</td>\n",
       "      <td>In the 22nd century, a paraplegic Marine is di...</td>\n",
       "      <td>150.437577</td>\n",
       "      <td>[{\"name\": \"Ingenious Film Partners\", \"id\": 289...</td>\n",
       "      <td>[{\"iso_3166_1\": \"US\", \"name\": \"United States o...</td>\n",
       "      <td>2009-12-10</td>\n",
       "      <td>2787965087</td>\n",
       "      <td>162.0</td>\n",
       "      <td>[{\"iso_639_1\": \"en\", \"name\": \"English\"}, {\"iso...</td>\n",
       "      <td>Released</td>\n",
       "      <td>Enter the World of Pandora.</td>\n",
       "      <td>Avatar</td>\n",
       "      <td>7.2</td>\n",
       "      <td>11800</td>\n",
       "    </tr>\n",
       "  </tbody>\n",
       "</table>\n",
       "</div>"
      ],
      "text/plain": [
       "      budget                                             genres  \\\n",
       "0  237000000  [{\"id\": 28, \"name\": \"Action\"}, {\"id\": 12, \"nam...   \n",
       "\n",
       "                      homepage     id  \\\n",
       "0  http://www.avatarmovie.com/  19995   \n",
       "\n",
       "                                            keywords original_language  \\\n",
       "0  [{\"id\": 1463, \"name\": \"culture clash\"}, {\"id\":...                en   \n",
       "\n",
       "  original_title                                           overview  \\\n",
       "0         Avatar  In the 22nd century, a paraplegic Marine is di...   \n",
       "\n",
       "   popularity                               production_companies  \\\n",
       "0  150.437577  [{\"name\": \"Ingenious Film Partners\", \"id\": 289...   \n",
       "\n",
       "                                production_countries release_date     revenue  \\\n",
       "0  [{\"iso_3166_1\": \"US\", \"name\": \"United States o...   2009-12-10  2787965087   \n",
       "\n",
       "   runtime                                   spoken_languages    status  \\\n",
       "0    162.0  [{\"iso_639_1\": \"en\", \"name\": \"English\"}, {\"iso...  Released   \n",
       "\n",
       "                       tagline   title  vote_average  vote_count  \n",
       "0  Enter the World of Pandora.  Avatar           7.2       11800  "
      ]
     },
     "execution_count": 3,
     "metadata": {},
     "output_type": "execute_result"
    }
   ],
   "source": [
    "movies.head(1)"
   ]
  },
  {
   "cell_type": "code",
   "execution_count": 4,
   "metadata": {},
   "outputs": [
    {
     "data": {
      "text/html": [
       "<div>\n",
       "<style>\n",
       "    .dataframe thead tr:only-child th {\n",
       "        text-align: right;\n",
       "    }\n",
       "\n",
       "    .dataframe thead th {\n",
       "        text-align: left;\n",
       "    }\n",
       "\n",
       "    .dataframe tbody tr th {\n",
       "        vertical-align: top;\n",
       "    }\n",
       "</style>\n",
       "<table border=\"1\" class=\"dataframe\">\n",
       "  <thead>\n",
       "    <tr style=\"text-align: right;\">\n",
       "      <th></th>\n",
       "      <th>movie_id</th>\n",
       "      <th>title</th>\n",
       "      <th>cast</th>\n",
       "      <th>crew</th>\n",
       "    </tr>\n",
       "  </thead>\n",
       "  <tbody>\n",
       "    <tr>\n",
       "      <th>0</th>\n",
       "      <td>19995</td>\n",
       "      <td>Avatar</td>\n",
       "      <td>[{\"cast_id\": 242, \"character\": \"Jake Sully\", \"...</td>\n",
       "      <td>[{\"credit_id\": \"52fe48009251416c750aca23\", \"de...</td>\n",
       "    </tr>\n",
       "  </tbody>\n",
       "</table>\n",
       "</div>"
      ],
      "text/plain": [
       "   movie_id   title                                               cast  \\\n",
       "0     19995  Avatar  [{\"cast_id\": 242, \"character\": \"Jake Sully\", \"...   \n",
       "\n",
       "                                                crew  \n",
       "0  [{\"credit_id\": \"52fe48009251416c750aca23\", \"de...  "
      ]
     },
     "execution_count": 4,
     "metadata": {},
     "output_type": "execute_result"
    }
   ],
   "source": [
    "credits.head(1)"
   ]
  },
  {
   "cell_type": "code",
   "execution_count": 5,
   "metadata": {
    "collapsed": true
   },
   "outputs": [],
   "source": [
    "# la funzionecrea una serie di dataframe, in cui ogni dataframe rappresenta una cella json (es. cast di credits) del \n",
    "# dataframe originale e restituisce un unico dataframe\n",
    "def normalizza (movie_id, colonna, dataset):\n",
    "    temp = dataset.set_index(movie_id)[colonna].apply(pd.read_json)\n",
    "    def setta_chiave(indice):\n",
    "        temp[indice][movie_id] = indice\n",
    "        return temp\n",
    "    dataset[movie_id].apply(setta_chiave)\n",
    "    return pd.concat(temp.values.tolist())"
   ]
  },
  {
   "cell_type": "markdown",
   "metadata": {},
   "source": [
    "1) For each movie, compute the number of cast members"
   ]
  },
  {
   "cell_type": "code",
   "execution_count": 6,
   "metadata": {},
   "outputs": [
    {
     "data": {
      "text/html": [
       "<div>\n",
       "<style>\n",
       "    .dataframe thead tr:only-child th {\n",
       "        text-align: right;\n",
       "    }\n",
       "\n",
       "    .dataframe thead th {\n",
       "        text-align: left;\n",
       "    }\n",
       "\n",
       "    .dataframe tbody tr th {\n",
       "        vertical-align: top;\n",
       "    }\n",
       "</style>\n",
       "<table border=\"1\" class=\"dataframe\">\n",
       "  <thead>\n",
       "    <tr style=\"text-align: right;\">\n",
       "      <th></th>\n",
       "      <th>movie_id</th>\n",
       "      <th>cast_number</th>\n",
       "      <th>title</th>\n",
       "    </tr>\n",
       "  </thead>\n",
       "  <tbody>\n",
       "    <tr>\n",
       "      <th>0</th>\n",
       "      <td>5</td>\n",
       "      <td>24</td>\n",
       "      <td>Four Rooms</td>\n",
       "    </tr>\n",
       "    <tr>\n",
       "      <th>1</th>\n",
       "      <td>11</td>\n",
       "      <td>106</td>\n",
       "      <td>Star Wars</td>\n",
       "    </tr>\n",
       "    <tr>\n",
       "      <th>2</th>\n",
       "      <td>12</td>\n",
       "      <td>24</td>\n",
       "      <td>Finding Nemo</td>\n",
       "    </tr>\n",
       "    <tr>\n",
       "      <th>3</th>\n",
       "      <td>13</td>\n",
       "      <td>66</td>\n",
       "      <td>Forrest Gump</td>\n",
       "    </tr>\n",
       "    <tr>\n",
       "      <th>4</th>\n",
       "      <td>14</td>\n",
       "      <td>40</td>\n",
       "      <td>American Beauty</td>\n",
       "    </tr>\n",
       "  </tbody>\n",
       "</table>\n",
       "</div>"
      ],
      "text/plain": [
       "   movie_id  cast_number            title\n",
       "0         5           24       Four Rooms\n",
       "1        11          106        Star Wars\n",
       "2        12           24     Finding Nemo\n",
       "3        13           66     Forrest Gump\n",
       "4        14           40  American Beauty"
      ]
     },
     "execution_count": 6,
     "metadata": {},
     "output_type": "execute_result"
    }
   ],
   "source": [
    "cast = normalizza('movie_id', 'cast', credits)\n",
    "cast_number = cast.groupby('movie_id').size()\n",
    "cast_number = cast_number.to_frame().rename(columns= {0: 'cast_number'}).reset_index()\n",
    "cast_number = pd.merge(left = cast_number, right = credits[['movie_id', 'title']], on = 'movie_id')\n",
    "cast_number.head()"
   ]
  },
  {
   "cell_type": "markdown",
   "metadata": {},
   "source": [
    "2) How many movies do not have a homepage?"
   ]
  },
  {
   "cell_type": "code",
   "execution_count": 7,
   "metadata": {},
   "outputs": [
    {
     "data": {
      "text/plain": [
       "3091"
      ]
     },
     "execution_count": 7,
     "metadata": {},
     "output_type": "execute_result"
    }
   ],
   "source": [
    "moviey = movies[movies['homepage'].isnull()]\n",
    "len(moviey)"
   ]
  },
  {
   "cell_type": "markdown",
   "metadata": {},
   "source": [
    "3) For each year, how many movies do not have a homepage?"
   ]
  },
  {
   "cell_type": "code",
   "execution_count": 8,
   "metadata": {},
   "outputs": [
    {
     "name": "stderr",
     "output_type": "stream",
     "text": [
      "C:\\Users\\aless\\Anaconda3\\lib\\site-packages\\ipykernel_launcher.py:1: FutureWarning: currently extract(expand=None) means expand=False (return Index/Series/DataFrame) but in a future version of pandas this will be changed to expand=True (return DataFrame)\n",
      "  \"\"\"Entry point for launching an IPython kernel.\n",
      "C:\\Users\\aless\\Anaconda3\\lib\\site-packages\\ipykernel_launcher.py:1: SettingWithCopyWarning: \n",
      "A value is trying to be set on a copy of a slice from a DataFrame.\n",
      "Try using .loc[row_indexer,col_indexer] = value instead\n",
      "\n",
      "See the caveats in the documentation: http://pandas.pydata.org/pandas-docs/stable/indexing.html#indexing-view-versus-copy\n",
      "  \"\"\"Entry point for launching an IPython kernel.\n"
     ]
    },
    {
     "data": {
      "text/html": [
       "<div>\n",
       "<style>\n",
       "    .dataframe thead tr:only-child th {\n",
       "        text-align: right;\n",
       "    }\n",
       "\n",
       "    .dataframe thead th {\n",
       "        text-align: left;\n",
       "    }\n",
       "\n",
       "    .dataframe tbody tr th {\n",
       "        vertical-align: top;\n",
       "    }\n",
       "</style>\n",
       "<table border=\"1\" class=\"dataframe\">\n",
       "  <thead>\n",
       "    <tr style=\"text-align: right;\">\n",
       "      <th></th>\n",
       "      <th>year</th>\n",
       "      <th>number_movies</th>\n",
       "    </tr>\n",
       "  </thead>\n",
       "  <tbody>\n",
       "    <tr>\n",
       "      <th>0</th>\n",
       "      <td>1916</td>\n",
       "      <td>1</td>\n",
       "    </tr>\n",
       "    <tr>\n",
       "      <th>1</th>\n",
       "      <td>1925</td>\n",
       "      <td>1</td>\n",
       "    </tr>\n",
       "    <tr>\n",
       "      <th>2</th>\n",
       "      <td>1927</td>\n",
       "      <td>1</td>\n",
       "    </tr>\n",
       "    <tr>\n",
       "      <th>3</th>\n",
       "      <td>1929</td>\n",
       "      <td>2</td>\n",
       "    </tr>\n",
       "    <tr>\n",
       "      <th>4</th>\n",
       "      <td>1930</td>\n",
       "      <td>1</td>\n",
       "    </tr>\n",
       "  </tbody>\n",
       "</table>\n",
       "</div>"
      ],
      "text/plain": [
       "   year  number_movies\n",
       "0  1916              1\n",
       "1  1925              1\n",
       "2  1927              1\n",
       "3  1929              2\n",
       "4  1930              1"
      ]
     },
     "execution_count": 8,
     "metadata": {},
     "output_type": "execute_result"
    }
   ],
   "source": [
    "moviey['year'] = movies['release_date'].str.extract('(\\d\\d\\d\\d)')\n",
    "moviey = moviey.groupby('year').size().to_frame().rename(columns = {0 : 'number_movies'}).reset_index()\n",
    "moviey.head()"
   ]
  },
  {
   "cell_type": "markdown",
   "metadata": {},
   "source": [
    "4) Extract the domain of each homepage."
   ]
  },
  {
   "cell_type": "code",
   "execution_count": 9,
   "metadata": {},
   "outputs": [
    {
     "data": {
      "text/html": [
       "<div>\n",
       "<style>\n",
       "    .dataframe thead tr:only-child th {\n",
       "        text-align: right;\n",
       "    }\n",
       "\n",
       "    .dataframe thead th {\n",
       "        text-align: left;\n",
       "    }\n",
       "\n",
       "    .dataframe tbody tr th {\n",
       "        vertical-align: top;\n",
       "    }\n",
       "</style>\n",
       "<table border=\"1\" class=\"dataframe\">\n",
       "  <thead>\n",
       "    <tr style=\"text-align: right;\">\n",
       "      <th></th>\n",
       "      <th>homepage</th>\n",
       "      <th>id</th>\n",
       "      <th>original_title</th>\n",
       "    </tr>\n",
       "  </thead>\n",
       "  <tbody>\n",
       "    <tr>\n",
       "      <th>3730</th>\n",
       "      <td>http://www.cargoderfilm.ch http://cargothemovi...</td>\n",
       "      <td>34069</td>\n",
       "      <td>Cargo</td>\n",
       "    </tr>\n",
       "  </tbody>\n",
       "</table>\n",
       "</div>"
      ],
      "text/plain": [
       "                                               homepage     id original_title\n",
       "3730  http://www.cargoderfilm.ch http://cargothemovi...  34069          Cargo"
      ]
     },
     "execution_count": 9,
     "metadata": {},
     "output_type": "execute_result"
    }
   ],
   "source": [
    "import tldextract\n",
    "movie_d = movies[movies['homepage'].notnull()][['id', 'original_title', 'homepage']]\n",
    "# la funzione restituisce il numero di split (quindi il numero di homepage per ciascun film)\n",
    "def conta(colonna):\n",
    "    split = colonna.split()\n",
    "    return len(split)\n",
    "movie_d['split'] = movie_d['homepage'].apply(conta)\n",
    "# troviamo eventuali film con più di una homepage\n",
    "salva_id = movie_d[movie_d['split'] != 1][['homepage', 'id', 'original_title']]\n",
    "salva_id"
   ]
  },
  {
   "cell_type": "code",
   "execution_count": 10,
   "metadata": {},
   "outputs": [
    {
     "data": {
      "text/html": [
       "<div>\n",
       "<style>\n",
       "    .dataframe thead tr:only-child th {\n",
       "        text-align: right;\n",
       "    }\n",
       "\n",
       "    .dataframe thead th {\n",
       "        text-align: left;\n",
       "    }\n",
       "\n",
       "    .dataframe tbody tr th {\n",
       "        vertical-align: top;\n",
       "    }\n",
       "</style>\n",
       "<table border=\"1\" class=\"dataframe\">\n",
       "  <thead>\n",
       "    <tr style=\"text-align: right;\">\n",
       "      <th></th>\n",
       "      <th>homepage</th>\n",
       "      <th>id</th>\n",
       "    </tr>\n",
       "  </thead>\n",
       "  <tbody>\n",
       "    <tr>\n",
       "      <th>0</th>\n",
       "      <td>http://www.cargoderfilm.ch</td>\n",
       "      <td>34069</td>\n",
       "    </tr>\n",
       "    <tr>\n",
       "      <th>1</th>\n",
       "      <td>http://cargothemovie.com</td>\n",
       "      <td>34069</td>\n",
       "    </tr>\n",
       "  </tbody>\n",
       "</table>\n",
       "</div>"
      ],
      "text/plain": [
       "                     homepage     id\n",
       "0  http://www.cargoderfilm.ch  34069\n",
       "1    http://cargothemovie.com  34069"
      ]
     },
     "execution_count": 10,
     "metadata": {},
     "output_type": "execute_result"
    }
   ],
   "source": [
    "# creiamo un dataframe provvisorio che ha come numero di righe il numero totale delle homepage che si riferiscono agli stessi\n",
    "# film (in questo caso solo il film \"Cargo\" con due homepage)\n",
    "salva_id = salva_id.drop('original_title', axis = 1)\n",
    "provvisorio = pd.DataFrame(columns = ['homepage', 'id'], index = range(len(salva_id) + 1))\n",
    "# crea una lista con tutte le homepage che si riferiscono ad un film\n",
    "for element in salva_id.reset_index()['index']: \n",
    "    split = salva_id['homepage'][element].split()\n",
    "# salva le homepage presenti nella lista all'interno del dataframe provvisorio    \n",
    "    for elemen in range(len(salva_id) + 1):\n",
    "        provvisorio['homepage'][elemen] = split[elemen] \n",
    "        provvisorio['id'][elemen] = salva_id['id'][element]\n",
    "provvisorio"
   ]
  },
  {
   "cell_type": "code",
   "execution_count": 11,
   "metadata": {},
   "outputs": [
    {
     "data": {
      "text/html": [
       "<div>\n",
       "<style>\n",
       "    .dataframe thead tr:only-child th {\n",
       "        text-align: right;\n",
       "    }\n",
       "\n",
       "    .dataframe thead th {\n",
       "        text-align: left;\n",
       "    }\n",
       "\n",
       "    .dataframe tbody tr th {\n",
       "        vertical-align: top;\n",
       "    }\n",
       "</style>\n",
       "<table border=\"1\" class=\"dataframe\">\n",
       "  <thead>\n",
       "    <tr style=\"text-align: right;\">\n",
       "      <th></th>\n",
       "      <th>homepage</th>\n",
       "      <th>id</th>\n",
       "      <th>original_title</th>\n",
       "      <th>split</th>\n",
       "    </tr>\n",
       "  </thead>\n",
       "  <tbody>\n",
       "    <tr>\n",
       "      <th>0</th>\n",
       "      <td>http://www.cargoderfilm.ch</td>\n",
       "      <td>34069</td>\n",
       "      <td>Cargo</td>\n",
       "      <td>2</td>\n",
       "    </tr>\n",
       "    <tr>\n",
       "      <th>1</th>\n",
       "      <td>http://cargothemovie.com</td>\n",
       "      <td>34069</td>\n",
       "      <td>Cargo</td>\n",
       "      <td>2</td>\n",
       "    </tr>\n",
       "  </tbody>\n",
       "</table>\n",
       "</div>"
      ],
      "text/plain": [
       "                     homepage     id original_title  split\n",
       "0  http://www.cargoderfilm.ch  34069          Cargo      2\n",
       "1    http://cargothemovie.com  34069          Cargo      2"
      ]
     },
     "execution_count": 11,
     "metadata": {},
     "output_type": "execute_result"
    }
   ],
   "source": [
    "# viene salvato il dataframe escludendo i film con più di un homepage\n",
    "movie_d1 = movie_d[movie_d['split'] == 1]\n",
    "# vengono aggiunte al dataframe provvisorio tutte le colonne di movie_d\n",
    "provvisorio = pd.merge(left = provvisorio, right = movie_d, how = 'left', on = 'id').drop('homepage_y', axis = 1).rename(\n",
    "                                                                        columns = {'homepage_x': 'homepage'})\n",
    "provvisorio"
   ]
  },
  {
   "cell_type": "code",
   "execution_count": 12,
   "metadata": {},
   "outputs": [
    {
     "data": {
      "text/html": [
       "<div>\n",
       "<style>\n",
       "    .dataframe thead tr:only-child th {\n",
       "        text-align: right;\n",
       "    }\n",
       "\n",
       "    .dataframe thead th {\n",
       "        text-align: left;\n",
       "    }\n",
       "\n",
       "    .dataframe tbody tr th {\n",
       "        vertical-align: top;\n",
       "    }\n",
       "</style>\n",
       "<table border=\"1\" class=\"dataframe\">\n",
       "  <thead>\n",
       "    <tr style=\"text-align: right;\">\n",
       "      <th></th>\n",
       "      <th>homepage</th>\n",
       "      <th>id</th>\n",
       "      <th>original_title</th>\n",
       "      <th>domain</th>\n",
       "    </tr>\n",
       "  </thead>\n",
       "  <tbody>\n",
       "    <tr>\n",
       "      <th>0</th>\n",
       "      <td>http://www.avatarmovie.com/</td>\n",
       "      <td>19995</td>\n",
       "      <td>Avatar</td>\n",
       "      <td>com</td>\n",
       "    </tr>\n",
       "    <tr>\n",
       "      <th>1</th>\n",
       "      <td>http://disney.go.com/disneypictures/pirates/</td>\n",
       "      <td>285</td>\n",
       "      <td>Pirates of the Caribbean: At World's End</td>\n",
       "      <td>com</td>\n",
       "    </tr>\n",
       "    <tr>\n",
       "      <th>2</th>\n",
       "      <td>http://www.sonypictures.com/movies/spectre/</td>\n",
       "      <td>206647</td>\n",
       "      <td>Spectre</td>\n",
       "      <td>com</td>\n",
       "    </tr>\n",
       "    <tr>\n",
       "      <th>3</th>\n",
       "      <td>http://www.thedarkknightrises.com/</td>\n",
       "      <td>49026</td>\n",
       "      <td>The Dark Knight Rises</td>\n",
       "      <td>com</td>\n",
       "    </tr>\n",
       "    <tr>\n",
       "      <th>4</th>\n",
       "      <td>http://movies.disney.com/john-carter</td>\n",
       "      <td>49529</td>\n",
       "      <td>John Carter</td>\n",
       "      <td>com</td>\n",
       "    </tr>\n",
       "  </tbody>\n",
       "</table>\n",
       "</div>"
      ],
      "text/plain": [
       "                                       homepage      id  \\\n",
       "0                   http://www.avatarmovie.com/   19995   \n",
       "1  http://disney.go.com/disneypictures/pirates/     285   \n",
       "2   http://www.sonypictures.com/movies/spectre/  206647   \n",
       "3            http://www.thedarkknightrises.com/   49026   \n",
       "4          http://movies.disney.com/john-carter   49529   \n",
       "\n",
       "                             original_title domain  \n",
       "0                                    Avatar    com  \n",
       "1  Pirates of the Caribbean: At World's End    com  \n",
       "2                                   Spectre    com  \n",
       "3                     The Dark Knight Rises    com  \n",
       "4                               John Carter    com  "
      ]
     },
     "execution_count": 12,
     "metadata": {},
     "output_type": "execute_result"
    }
   ],
   "source": [
    "movie_d = pd.concat([movie_d1, provvisorio])\n",
    "# tldextract takes a string URL and splits it into its subdomain, domain, and suffix component\n",
    "def estrai(colonna):\n",
    "    return tldextract.extract(colonna).suffix\n",
    "movie_d['domain'] = movie_d['homepage'].apply(estrai)\n",
    "movie_d = movie_d.drop('split', axis = 1)\n",
    "movie_d.head()"
   ]
  },
  {
   "cell_type": "code",
   "execution_count": 13,
   "metadata": {},
   "outputs": [
    {
     "data": {
      "text/html": [
       "<div>\n",
       "<style>\n",
       "    .dataframe thead tr:only-child th {\n",
       "        text-align: right;\n",
       "    }\n",
       "\n",
       "    .dataframe thead th {\n",
       "        text-align: left;\n",
       "    }\n",
       "\n",
       "    .dataframe tbody tr th {\n",
       "        vertical-align: top;\n",
       "    }\n",
       "</style>\n",
       "<table border=\"1\" class=\"dataframe\">\n",
       "  <thead>\n",
       "    <tr style=\"text-align: right;\">\n",
       "      <th></th>\n",
       "      <th>homepage</th>\n",
       "      <th>id</th>\n",
       "      <th>original_title</th>\n",
       "      <th>domain</th>\n",
       "    </tr>\n",
       "  </thead>\n",
       "  <tbody>\n",
       "    <tr>\n",
       "      <th>0</th>\n",
       "      <td>http://www.cargoderfilm.ch</td>\n",
       "      <td>34069</td>\n",
       "      <td>Cargo</td>\n",
       "      <td>ch</td>\n",
       "    </tr>\n",
       "    <tr>\n",
       "      <th>1</th>\n",
       "      <td>http://cargothemovie.com</td>\n",
       "      <td>34069</td>\n",
       "      <td>Cargo</td>\n",
       "      <td>com</td>\n",
       "    </tr>\n",
       "  </tbody>\n",
       "</table>\n",
       "</div>"
      ],
      "text/plain": [
       "                     homepage     id original_title domain\n",
       "0  http://www.cargoderfilm.ch  34069          Cargo     ch\n",
       "1    http://cargothemovie.com  34069          Cargo    com"
      ]
     },
     "execution_count": 13,
     "metadata": {},
     "output_type": "execute_result"
    }
   ],
   "source": [
    "# il caso particolare del film \"Cargo\"\n",
    "movie_d[movie_d['original_title'] == 'Cargo']"
   ]
  },
  {
   "cell_type": "markdown",
   "metadata": {},
   "source": [
    "5) Extract a set of normalized tables. That is, each entry of a normalized table must contain exactly one value (not a list or a dictionary)"
   ]
  },
  {
   "cell_type": "code",
   "execution_count": 14,
   "metadata": {
    "collapsed": true
   },
   "outputs": [],
   "source": [
    "movies_n = movies.drop(['genres', 'keywords', 'production_companies', 'production_countries', 'spoken_languages'], axis = 1)\n",
    "credits_n = credits.drop(['cast', 'crew'], axis = 1)\n",
    "genres = normalizza('id','genres', movies)\n",
    "keywords = normalizza('id', 'keywords', movies)\n",
    "production_companies = normalizza('id','production_companies', movies)\n",
    "production_countries = normalizza('id', 'production_countries', movies).rename(columns = {'iso_3166_1':'country_id'})\n",
    "spoken_languages = normalizza('id', 'spoken_languages', movies).rename(columns = {'iso_639_1':'language_id'})\n",
    "crew = normalizza('movie_id','crew', credits)"
   ]
  },
  {
   "cell_type": "code",
   "execution_count": 15,
   "metadata": {
    "collapsed": true
   },
   "outputs": [],
   "source": [
    "def valuta_chiave_singola(df, colonna):\n",
    "    return len(df[colonna]) == len(df[colonna].drop_duplicates())\n",
    "def valuta_chiave_composta(df, colonna1, colonna2):\n",
    "    temp = df.applymap(str)\n",
    "    temp['temp'] = temp[colonna1] + ' ' + temp[colonna2]\n",
    "    return len(temp['temp']) == len(temp['temp'].drop_duplicates())"
   ]
  },
  {
   "cell_type": "code",
   "execution_count": 16,
   "metadata": {
    "collapsed": true
   },
   "outputs": [],
   "source": [
    "# movies_normalizzata\n",
    "movies_normalizzata = movies_n[['id', 'original_title', 'title', 'budget', 'homepage', 'original_language', 'overview', \n",
    "                            'popularity', 'release_date', 'revenue', 'runtime', 'status', 'tagline', 'vote_average', \n",
    "                            'vote_count']].rename(columns = {'id' : 'movie_id', 'title' : 'en_title'})"
   ]
  },
  {
   "cell_type": "code",
   "execution_count": 17,
   "metadata": {},
   "outputs": [
    {
     "data": {
      "text/plain": [
       "True"
      ]
     },
     "execution_count": 17,
     "metadata": {},
     "output_type": "execute_result"
    }
   ],
   "source": [
    "# movie_id è chiave primaria?\n",
    "valuta_chiave_singola(movies_normalizzata, 'movie_id')"
   ]
  },
  {
   "cell_type": "code",
   "execution_count": 18,
   "metadata": {},
   "outputs": [
    {
     "data": {
      "text/html": [
       "<div>\n",
       "<style>\n",
       "    .dataframe thead tr:only-child th {\n",
       "        text-align: right;\n",
       "    }\n",
       "\n",
       "    .dataframe thead th {\n",
       "        text-align: left;\n",
       "    }\n",
       "\n",
       "    .dataframe tbody tr th {\n",
       "        vertical-align: top;\n",
       "    }\n",
       "</style>\n",
       "<table border=\"1\" class=\"dataframe\">\n",
       "  <thead>\n",
       "    <tr style=\"text-align: right;\">\n",
       "      <th></th>\n",
       "      <th>movie_id</th>\n",
       "      <th>original_title</th>\n",
       "      <th>en_title</th>\n",
       "      <th>budget</th>\n",
       "      <th>homepage</th>\n",
       "      <th>original_language</th>\n",
       "      <th>overview</th>\n",
       "      <th>popularity</th>\n",
       "      <th>release_date</th>\n",
       "      <th>revenue</th>\n",
       "      <th>runtime</th>\n",
       "      <th>status</th>\n",
       "      <th>tagline</th>\n",
       "      <th>vote_average</th>\n",
       "      <th>vote_count</th>\n",
       "    </tr>\n",
       "  </thead>\n",
       "  <tbody>\n",
       "    <tr>\n",
       "      <th>0</th>\n",
       "      <td>19995</td>\n",
       "      <td>Avatar</td>\n",
       "      <td>Avatar</td>\n",
       "      <td>237000000</td>\n",
       "      <td>http://www.avatarmovie.com/</td>\n",
       "      <td>en</td>\n",
       "      <td>In the 22nd century, a paraplegic Marine is di...</td>\n",
       "      <td>150.437577</td>\n",
       "      <td>2009-12-10</td>\n",
       "      <td>2787965087</td>\n",
       "      <td>162.0</td>\n",
       "      <td>Released</td>\n",
       "      <td>Enter the World of Pandora.</td>\n",
       "      <td>7.2</td>\n",
       "      <td>11800</td>\n",
       "    </tr>\n",
       "    <tr>\n",
       "      <th>1</th>\n",
       "      <td>285</td>\n",
       "      <td>Pirates of the Caribbean: At World's End</td>\n",
       "      <td>Pirates of the Caribbean: At World's End</td>\n",
       "      <td>300000000</td>\n",
       "      <td>http://disney.go.com/disneypictures/pirates/</td>\n",
       "      <td>en</td>\n",
       "      <td>Captain Barbossa, long believed to be dead, ha...</td>\n",
       "      <td>139.082615</td>\n",
       "      <td>2007-05-19</td>\n",
       "      <td>961000000</td>\n",
       "      <td>169.0</td>\n",
       "      <td>Released</td>\n",
       "      <td>At the end of the world, the adventure begins.</td>\n",
       "      <td>6.9</td>\n",
       "      <td>4500</td>\n",
       "    </tr>\n",
       "    <tr>\n",
       "      <th>2</th>\n",
       "      <td>206647</td>\n",
       "      <td>Spectre</td>\n",
       "      <td>Spectre</td>\n",
       "      <td>245000000</td>\n",
       "      <td>http://www.sonypictures.com/movies/spectre/</td>\n",
       "      <td>en</td>\n",
       "      <td>A cryptic message from Bond’s past sends him o...</td>\n",
       "      <td>107.376788</td>\n",
       "      <td>2015-10-26</td>\n",
       "      <td>880674609</td>\n",
       "      <td>148.0</td>\n",
       "      <td>Released</td>\n",
       "      <td>A Plan No One Escapes</td>\n",
       "      <td>6.3</td>\n",
       "      <td>4466</td>\n",
       "    </tr>\n",
       "    <tr>\n",
       "      <th>3</th>\n",
       "      <td>49026</td>\n",
       "      <td>The Dark Knight Rises</td>\n",
       "      <td>The Dark Knight Rises</td>\n",
       "      <td>250000000</td>\n",
       "      <td>http://www.thedarkknightrises.com/</td>\n",
       "      <td>en</td>\n",
       "      <td>Following the death of District Attorney Harve...</td>\n",
       "      <td>112.312950</td>\n",
       "      <td>2012-07-16</td>\n",
       "      <td>1084939099</td>\n",
       "      <td>165.0</td>\n",
       "      <td>Released</td>\n",
       "      <td>The Legend Ends</td>\n",
       "      <td>7.6</td>\n",
       "      <td>9106</td>\n",
       "    </tr>\n",
       "    <tr>\n",
       "      <th>4</th>\n",
       "      <td>49529</td>\n",
       "      <td>John Carter</td>\n",
       "      <td>John Carter</td>\n",
       "      <td>260000000</td>\n",
       "      <td>http://movies.disney.com/john-carter</td>\n",
       "      <td>en</td>\n",
       "      <td>John Carter is a war-weary, former military ca...</td>\n",
       "      <td>43.926995</td>\n",
       "      <td>2012-03-07</td>\n",
       "      <td>284139100</td>\n",
       "      <td>132.0</td>\n",
       "      <td>Released</td>\n",
       "      <td>Lost in our world, found in another.</td>\n",
       "      <td>6.1</td>\n",
       "      <td>2124</td>\n",
       "    </tr>\n",
       "  </tbody>\n",
       "</table>\n",
       "</div>"
      ],
      "text/plain": [
       "   movie_id                            original_title  \\\n",
       "0     19995                                    Avatar   \n",
       "1       285  Pirates of the Caribbean: At World's End   \n",
       "2    206647                                   Spectre   \n",
       "3     49026                     The Dark Knight Rises   \n",
       "4     49529                               John Carter   \n",
       "\n",
       "                                   en_title     budget  \\\n",
       "0                                    Avatar  237000000   \n",
       "1  Pirates of the Caribbean: At World's End  300000000   \n",
       "2                                   Spectre  245000000   \n",
       "3                     The Dark Knight Rises  250000000   \n",
       "4                               John Carter  260000000   \n",
       "\n",
       "                                       homepage original_language  \\\n",
       "0                   http://www.avatarmovie.com/                en   \n",
       "1  http://disney.go.com/disneypictures/pirates/                en   \n",
       "2   http://www.sonypictures.com/movies/spectre/                en   \n",
       "3            http://www.thedarkknightrises.com/                en   \n",
       "4          http://movies.disney.com/john-carter                en   \n",
       "\n",
       "                                            overview  popularity release_date  \\\n",
       "0  In the 22nd century, a paraplegic Marine is di...  150.437577   2009-12-10   \n",
       "1  Captain Barbossa, long believed to be dead, ha...  139.082615   2007-05-19   \n",
       "2  A cryptic message from Bond’s past sends him o...  107.376788   2015-10-26   \n",
       "3  Following the death of District Attorney Harve...  112.312950   2012-07-16   \n",
       "4  John Carter is a war-weary, former military ca...   43.926995   2012-03-07   \n",
       "\n",
       "      revenue  runtime    status  \\\n",
       "0  2787965087    162.0  Released   \n",
       "1   961000000    169.0  Released   \n",
       "2   880674609    148.0  Released   \n",
       "3  1084939099    165.0  Released   \n",
       "4   284139100    132.0  Released   \n",
       "\n",
       "                                          tagline  vote_average  vote_count  \n",
       "0                     Enter the World of Pandora.           7.2       11800  \n",
       "1  At the end of the world, the adventure begins.           6.9        4500  \n",
       "2                           A Plan No One Escapes           6.3        4466  \n",
       "3                                 The Legend Ends           7.6        9106  \n",
       "4            Lost in our world, found in another.           6.1        2124  "
      ]
     },
     "execution_count": 18,
     "metadata": {},
     "output_type": "execute_result"
    }
   ],
   "source": [
    "movies_normalizzata.head()"
   ]
  },
  {
   "cell_type": "code",
   "execution_count": 19,
   "metadata": {
    "collapsed": true
   },
   "outputs": [],
   "source": [
    "# genres normalizzata\n",
    "genres_normalizzata = genres.rename(columns = {'id' : 'movie_id', 'name' : 'genre'})"
   ]
  },
  {
   "cell_type": "code",
   "execution_count": 20,
   "metadata": {},
   "outputs": [
    {
     "data": {
      "text/plain": [
       "True"
      ]
     },
     "execution_count": 20,
     "metadata": {},
     "output_type": "execute_result"
    }
   ],
   "source": [
    "# movie_id e genres sono la chiave primaria?\n",
    "valuta_chiave_composta(genres_normalizzata, 'movie_id', 'genre')"
   ]
  },
  {
   "cell_type": "code",
   "execution_count": 21,
   "metadata": {},
   "outputs": [
    {
     "data": {
      "text/html": [
       "<div>\n",
       "<style>\n",
       "    .dataframe thead tr:only-child th {\n",
       "        text-align: right;\n",
       "    }\n",
       "\n",
       "    .dataframe thead th {\n",
       "        text-align: left;\n",
       "    }\n",
       "\n",
       "    .dataframe tbody tr th {\n",
       "        vertical-align: top;\n",
       "    }\n",
       "</style>\n",
       "<table border=\"1\" class=\"dataframe\">\n",
       "  <thead>\n",
       "    <tr style=\"text-align: right;\">\n",
       "      <th></th>\n",
       "      <th>movie_id</th>\n",
       "      <th>genre</th>\n",
       "    </tr>\n",
       "  </thead>\n",
       "  <tbody>\n",
       "    <tr>\n",
       "      <th>0.0</th>\n",
       "      <td>19995</td>\n",
       "      <td>Action</td>\n",
       "    </tr>\n",
       "    <tr>\n",
       "      <th>1.0</th>\n",
       "      <td>19995</td>\n",
       "      <td>Adventure</td>\n",
       "    </tr>\n",
       "    <tr>\n",
       "      <th>2.0</th>\n",
       "      <td>19995</td>\n",
       "      <td>Fantasy</td>\n",
       "    </tr>\n",
       "    <tr>\n",
       "      <th>3.0</th>\n",
       "      <td>19995</td>\n",
       "      <td>Science Fiction</td>\n",
       "    </tr>\n",
       "    <tr>\n",
       "      <th>0.0</th>\n",
       "      <td>285</td>\n",
       "      <td>Adventure</td>\n",
       "    </tr>\n",
       "  </tbody>\n",
       "</table>\n",
       "</div>"
      ],
      "text/plain": [
       "     movie_id            genre\n",
       "0.0     19995           Action\n",
       "1.0     19995        Adventure\n",
       "2.0     19995          Fantasy\n",
       "3.0     19995  Science Fiction\n",
       "0.0       285        Adventure"
      ]
     },
     "execution_count": 21,
     "metadata": {},
     "output_type": "execute_result"
    }
   ],
   "source": [
    "genres_normalizzata.head()"
   ]
  },
  {
   "cell_type": "code",
   "execution_count": 22,
   "metadata": {
    "collapsed": true
   },
   "outputs": [],
   "source": [
    "#keywords normalizzata\n",
    "keywords_normalizzata = keywords.rename(columns = {'id' : 'movie_id', 'name' : 'keyword'})"
   ]
  },
  {
   "cell_type": "code",
   "execution_count": 23,
   "metadata": {},
   "outputs": [
    {
     "data": {
      "text/plain": [
       "True"
      ]
     },
     "execution_count": 23,
     "metadata": {},
     "output_type": "execute_result"
    }
   ],
   "source": [
    "# movie_id e name sono la chiave primaria?\n",
    "valuta_chiave_composta(keywords_normalizzata, 'movie_id', 'keyword')"
   ]
  },
  {
   "cell_type": "code",
   "execution_count": 24,
   "metadata": {},
   "outputs": [
    {
     "data": {
      "text/html": [
       "<div>\n",
       "<style>\n",
       "    .dataframe thead tr:only-child th {\n",
       "        text-align: right;\n",
       "    }\n",
       "\n",
       "    .dataframe thead th {\n",
       "        text-align: left;\n",
       "    }\n",
       "\n",
       "    .dataframe tbody tr th {\n",
       "        vertical-align: top;\n",
       "    }\n",
       "</style>\n",
       "<table border=\"1\" class=\"dataframe\">\n",
       "  <thead>\n",
       "    <tr style=\"text-align: right;\">\n",
       "      <th></th>\n",
       "      <th>movie_id</th>\n",
       "      <th>keyword</th>\n",
       "    </tr>\n",
       "  </thead>\n",
       "  <tbody>\n",
       "    <tr>\n",
       "      <th>0.0</th>\n",
       "      <td>19995</td>\n",
       "      <td>culture clash</td>\n",
       "    </tr>\n",
       "    <tr>\n",
       "      <th>1.0</th>\n",
       "      <td>19995</td>\n",
       "      <td>future</td>\n",
       "    </tr>\n",
       "    <tr>\n",
       "      <th>2.0</th>\n",
       "      <td>19995</td>\n",
       "      <td>space war</td>\n",
       "    </tr>\n",
       "    <tr>\n",
       "      <th>3.0</th>\n",
       "      <td>19995</td>\n",
       "      <td>space colony</td>\n",
       "    </tr>\n",
       "    <tr>\n",
       "      <th>4.0</th>\n",
       "      <td>19995</td>\n",
       "      <td>society</td>\n",
       "    </tr>\n",
       "  </tbody>\n",
       "</table>\n",
       "</div>"
      ],
      "text/plain": [
       "     movie_id        keyword\n",
       "0.0     19995  culture clash\n",
       "1.0     19995         future\n",
       "2.0     19995      space war\n",
       "3.0     19995   space colony\n",
       "4.0     19995        society"
      ]
     },
     "execution_count": 24,
     "metadata": {},
     "output_type": "execute_result"
    }
   ],
   "source": [
    "keywords_normalizzata.head()"
   ]
  },
  {
   "cell_type": "code",
   "execution_count": 25,
   "metadata": {
    "collapsed": true
   },
   "outputs": [],
   "source": [
    "# production_companies normalizzata\n",
    "production_companies_normalizzata = production_companies.rename(columns = {'id' : 'movie_id', 'name' : 'production_company'})"
   ]
  },
  {
   "cell_type": "code",
   "execution_count": 26,
   "metadata": {},
   "outputs": [
    {
     "data": {
      "text/plain": [
       "True"
      ]
     },
     "execution_count": 26,
     "metadata": {},
     "output_type": "execute_result"
    }
   ],
   "source": [
    "# movie_id e production_company sono la chiave primaria?\n",
    "valuta_chiave_composta(production_companies_normalizzata, 'movie_id', 'production_company')"
   ]
  },
  {
   "cell_type": "code",
   "execution_count": 27,
   "metadata": {},
   "outputs": [
    {
     "data": {
      "text/html": [
       "<div>\n",
       "<style>\n",
       "    .dataframe thead tr:only-child th {\n",
       "        text-align: right;\n",
       "    }\n",
       "\n",
       "    .dataframe thead th {\n",
       "        text-align: left;\n",
       "    }\n",
       "\n",
       "    .dataframe tbody tr th {\n",
       "        vertical-align: top;\n",
       "    }\n",
       "</style>\n",
       "<table border=\"1\" class=\"dataframe\">\n",
       "  <thead>\n",
       "    <tr style=\"text-align: right;\">\n",
       "      <th></th>\n",
       "      <th>movie_id</th>\n",
       "      <th>production_company</th>\n",
       "    </tr>\n",
       "  </thead>\n",
       "  <tbody>\n",
       "    <tr>\n",
       "      <th>0.0</th>\n",
       "      <td>19995</td>\n",
       "      <td>Ingenious Film Partners</td>\n",
       "    </tr>\n",
       "    <tr>\n",
       "      <th>1.0</th>\n",
       "      <td>19995</td>\n",
       "      <td>Twentieth Century Fox Film Corporation</td>\n",
       "    </tr>\n",
       "    <tr>\n",
       "      <th>2.0</th>\n",
       "      <td>19995</td>\n",
       "      <td>Dune Entertainment</td>\n",
       "    </tr>\n",
       "    <tr>\n",
       "      <th>3.0</th>\n",
       "      <td>19995</td>\n",
       "      <td>Lightstorm Entertainment</td>\n",
       "    </tr>\n",
       "    <tr>\n",
       "      <th>0.0</th>\n",
       "      <td>285</td>\n",
       "      <td>Walt Disney Pictures</td>\n",
       "    </tr>\n",
       "  </tbody>\n",
       "</table>\n",
       "</div>"
      ],
      "text/plain": [
       "     movie_id                      production_company\n",
       "0.0     19995                 Ingenious Film Partners\n",
       "1.0     19995  Twentieth Century Fox Film Corporation\n",
       "2.0     19995                      Dune Entertainment\n",
       "3.0     19995                Lightstorm Entertainment\n",
       "0.0       285                    Walt Disney Pictures"
      ]
     },
     "execution_count": 27,
     "metadata": {},
     "output_type": "execute_result"
    }
   ],
   "source": [
    "production_companies_normalizzata.head()"
   ]
  },
  {
   "cell_type": "code",
   "execution_count": 28,
   "metadata": {
    "collapsed": true
   },
   "outputs": [],
   "source": [
    "# production_countries normalizzata\n",
    "production_countries_normalizzata = production_countries[['id', 'country_id']].rename(columns = {'id' : 'movie_id'})"
   ]
  },
  {
   "cell_type": "code",
   "execution_count": 29,
   "metadata": {},
   "outputs": [
    {
     "data": {
      "text/plain": [
       "True"
      ]
     },
     "execution_count": 29,
     "metadata": {},
     "output_type": "execute_result"
    }
   ],
   "source": [
    "# movie_id e country_id sono la chiave primaria?\n",
    "valuta_chiave_composta(production_countries_normalizzata, 'movie_id', 'country_id')"
   ]
  },
  {
   "cell_type": "code",
   "execution_count": 30,
   "metadata": {},
   "outputs": [
    {
     "data": {
      "text/html": [
       "<div>\n",
       "<style>\n",
       "    .dataframe thead tr:only-child th {\n",
       "        text-align: right;\n",
       "    }\n",
       "\n",
       "    .dataframe thead th {\n",
       "        text-align: left;\n",
       "    }\n",
       "\n",
       "    .dataframe tbody tr th {\n",
       "        vertical-align: top;\n",
       "    }\n",
       "</style>\n",
       "<table border=\"1\" class=\"dataframe\">\n",
       "  <thead>\n",
       "    <tr style=\"text-align: right;\">\n",
       "      <th></th>\n",
       "      <th>movie_id</th>\n",
       "      <th>country_id</th>\n",
       "    </tr>\n",
       "  </thead>\n",
       "  <tbody>\n",
       "    <tr>\n",
       "      <th>0.0</th>\n",
       "      <td>19995</td>\n",
       "      <td>US</td>\n",
       "    </tr>\n",
       "    <tr>\n",
       "      <th>1.0</th>\n",
       "      <td>19995</td>\n",
       "      <td>GB</td>\n",
       "    </tr>\n",
       "    <tr>\n",
       "      <th>0.0</th>\n",
       "      <td>285</td>\n",
       "      <td>US</td>\n",
       "    </tr>\n",
       "    <tr>\n",
       "      <th>0.0</th>\n",
       "      <td>206647</td>\n",
       "      <td>GB</td>\n",
       "    </tr>\n",
       "    <tr>\n",
       "      <th>1.0</th>\n",
       "      <td>206647</td>\n",
       "      <td>US</td>\n",
       "    </tr>\n",
       "  </tbody>\n",
       "</table>\n",
       "</div>"
      ],
      "text/plain": [
       "     movie_id country_id\n",
       "0.0     19995         US\n",
       "1.0     19995         GB\n",
       "0.0       285         US\n",
       "0.0    206647         GB\n",
       "1.0    206647         US"
      ]
     },
     "execution_count": 30,
     "metadata": {},
     "output_type": "execute_result"
    }
   ],
   "source": [
    "production_countries_normalizzata.head()"
   ]
  },
  {
   "cell_type": "code",
   "execution_count": 31,
   "metadata": {
    "collapsed": true
   },
   "outputs": [],
   "source": [
    "# countries normalizzata\n",
    "countries_normalizzata = production_countries[['country_id', 'name']].drop_duplicates().rename(columns = \n",
    "                                                                                               {'name' : 'country_name'})"
   ]
  },
  {
   "cell_type": "code",
   "execution_count": 32,
   "metadata": {},
   "outputs": [
    {
     "data": {
      "text/plain": [
       "True"
      ]
     },
     "execution_count": 32,
     "metadata": {},
     "output_type": "execute_result"
    }
   ],
   "source": [
    "# country_id è la chiave primaria?\n",
    "valuta_chiave_singola(countries_normalizzata, 'country_id')"
   ]
  },
  {
   "cell_type": "code",
   "execution_count": 33,
   "metadata": {},
   "outputs": [
    {
     "data": {
      "text/html": [
       "<div>\n",
       "<style>\n",
       "    .dataframe thead tr:only-child th {\n",
       "        text-align: right;\n",
       "    }\n",
       "\n",
       "    .dataframe thead th {\n",
       "        text-align: left;\n",
       "    }\n",
       "\n",
       "    .dataframe tbody tr th {\n",
       "        vertical-align: top;\n",
       "    }\n",
       "</style>\n",
       "<table border=\"1\" class=\"dataframe\">\n",
       "  <thead>\n",
       "    <tr style=\"text-align: right;\">\n",
       "      <th></th>\n",
       "      <th>country_id</th>\n",
       "      <th>country_name</th>\n",
       "    </tr>\n",
       "  </thead>\n",
       "  <tbody>\n",
       "    <tr>\n",
       "      <th>0.0</th>\n",
       "      <td>US</td>\n",
       "      <td>United States of America</td>\n",
       "    </tr>\n",
       "    <tr>\n",
       "      <th>1.0</th>\n",
       "      <td>GB</td>\n",
       "      <td>United Kingdom</td>\n",
       "    </tr>\n",
       "    <tr>\n",
       "      <th>0.0</th>\n",
       "      <td>JM</td>\n",
       "      <td>Jamaica</td>\n",
       "    </tr>\n",
       "    <tr>\n",
       "      <th>2.0</th>\n",
       "      <td>BS</td>\n",
       "      <td>Bahamas</td>\n",
       "    </tr>\n",
       "    <tr>\n",
       "      <th>3.0</th>\n",
       "      <td>DM</td>\n",
       "      <td>Dominica</td>\n",
       "    </tr>\n",
       "  </tbody>\n",
       "</table>\n",
       "</div>"
      ],
      "text/plain": [
       "    country_id              country_name\n",
       "0.0         US  United States of America\n",
       "1.0         GB            United Kingdom\n",
       "0.0         JM                   Jamaica\n",
       "2.0         BS                   Bahamas\n",
       "3.0         DM                  Dominica"
      ]
     },
     "execution_count": 33,
     "metadata": {},
     "output_type": "execute_result"
    }
   ],
   "source": [
    "countries_normalizzata.head()"
   ]
  },
  {
   "cell_type": "code",
   "execution_count": 34,
   "metadata": {
    "collapsed": true
   },
   "outputs": [],
   "source": [
    "# spoken_languages normalizzata\n",
    "spoken_languages_normalizzata = spoken_languages[['id', 'language_id']].rename(columns = {'id' : 'movie_id'})"
   ]
  },
  {
   "cell_type": "code",
   "execution_count": 35,
   "metadata": {},
   "outputs": [
    {
     "data": {
      "text/plain": [
       "True"
      ]
     },
     "execution_count": 35,
     "metadata": {},
     "output_type": "execute_result"
    }
   ],
   "source": [
    "# movie_id e language_id sono la chiave primaria?\n",
    "valuta_chiave_composta(spoken_languages_normalizzata, 'movie_id', 'language_id')"
   ]
  },
  {
   "cell_type": "code",
   "execution_count": 36,
   "metadata": {},
   "outputs": [
    {
     "data": {
      "text/html": [
       "<div>\n",
       "<style>\n",
       "    .dataframe thead tr:only-child th {\n",
       "        text-align: right;\n",
       "    }\n",
       "\n",
       "    .dataframe thead th {\n",
       "        text-align: left;\n",
       "    }\n",
       "\n",
       "    .dataframe tbody tr th {\n",
       "        vertical-align: top;\n",
       "    }\n",
       "</style>\n",
       "<table border=\"1\" class=\"dataframe\">\n",
       "  <thead>\n",
       "    <tr style=\"text-align: right;\">\n",
       "      <th></th>\n",
       "      <th>movie_id</th>\n",
       "      <th>language_id</th>\n",
       "    </tr>\n",
       "  </thead>\n",
       "  <tbody>\n",
       "    <tr>\n",
       "      <th>0.0</th>\n",
       "      <td>19995</td>\n",
       "      <td>en</td>\n",
       "    </tr>\n",
       "    <tr>\n",
       "      <th>1.0</th>\n",
       "      <td>19995</td>\n",
       "      <td>es</td>\n",
       "    </tr>\n",
       "    <tr>\n",
       "      <th>0.0</th>\n",
       "      <td>285</td>\n",
       "      <td>en</td>\n",
       "    </tr>\n",
       "    <tr>\n",
       "      <th>0.0</th>\n",
       "      <td>206647</td>\n",
       "      <td>fr</td>\n",
       "    </tr>\n",
       "    <tr>\n",
       "      <th>1.0</th>\n",
       "      <td>206647</td>\n",
       "      <td>en</td>\n",
       "    </tr>\n",
       "  </tbody>\n",
       "</table>\n",
       "</div>"
      ],
      "text/plain": [
       "     movie_id language_id\n",
       "0.0     19995          en\n",
       "1.0     19995          es\n",
       "0.0       285          en\n",
       "0.0    206647          fr\n",
       "1.0    206647          en"
      ]
     },
     "execution_count": 36,
     "metadata": {},
     "output_type": "execute_result"
    }
   ],
   "source": [
    "spoken_languages_normalizzata.head()"
   ]
  },
  {
   "cell_type": "code",
   "execution_count": 37,
   "metadata": {
    "collapsed": true
   },
   "outputs": [],
   "source": [
    "# languages normalizzata\n",
    "languages_normalizzata = spoken_languages[['language_id', 'name']].drop_duplicates().rename(columns = \n",
    "                                                                                               {'name' : 'language_name'})"
   ]
  },
  {
   "cell_type": "code",
   "execution_count": 38,
   "metadata": {},
   "outputs": [
    {
     "data": {
      "text/plain": [
       "True"
      ]
     },
     "execution_count": 38,
     "metadata": {},
     "output_type": "execute_result"
    }
   ],
   "source": [
    "# language_id è la chiave primaria?\n",
    "valuta_chiave_singola(languages_normalizzata, 'language_id')"
   ]
  },
  {
   "cell_type": "code",
   "execution_count": 39,
   "metadata": {},
   "outputs": [
    {
     "data": {
      "text/html": [
       "<div>\n",
       "<style>\n",
       "    .dataframe thead tr:only-child th {\n",
       "        text-align: right;\n",
       "    }\n",
       "\n",
       "    .dataframe thead th {\n",
       "        text-align: left;\n",
       "    }\n",
       "\n",
       "    .dataframe tbody tr th {\n",
       "        vertical-align: top;\n",
       "    }\n",
       "</style>\n",
       "<table border=\"1\" class=\"dataframe\">\n",
       "  <thead>\n",
       "    <tr style=\"text-align: right;\">\n",
       "      <th></th>\n",
       "      <th>language_id</th>\n",
       "      <th>language_name</th>\n",
       "    </tr>\n",
       "  </thead>\n",
       "  <tbody>\n",
       "    <tr>\n",
       "      <th>0.0</th>\n",
       "      <td>en</td>\n",
       "      <td>English</td>\n",
       "    </tr>\n",
       "    <tr>\n",
       "      <th>1.0</th>\n",
       "      <td>es</td>\n",
       "      <td>Español</td>\n",
       "    </tr>\n",
       "    <tr>\n",
       "      <th>0.0</th>\n",
       "      <td>fr</td>\n",
       "      <td>Français</td>\n",
       "    </tr>\n",
       "    <tr>\n",
       "      <th>3.0</th>\n",
       "      <td>it</td>\n",
       "      <td>Italiano</td>\n",
       "    </tr>\n",
       "    <tr>\n",
       "      <th>4.0</th>\n",
       "      <td>de</td>\n",
       "      <td>Deutsch</td>\n",
       "    </tr>\n",
       "  </tbody>\n",
       "</table>\n",
       "</div>"
      ],
      "text/plain": [
       "    language_id language_name\n",
       "0.0          en       English\n",
       "1.0          es       Español\n",
       "0.0          fr      Français\n",
       "3.0          it      Italiano\n",
       "4.0          de       Deutsch"
      ]
     },
     "execution_count": 39,
     "metadata": {},
     "output_type": "execute_result"
    }
   ],
   "source": [
    "languages_normalizzata.head()"
   ]
  },
  {
   "cell_type": "code",
   "execution_count": 40,
   "metadata": {
    "collapsed": true
   },
   "outputs": [],
   "source": [
    "# cast normalizzata\n",
    "cast_normalizzata = cast[['credit_id', 'movie_id', 'cast_id', 'character', 'id', 'order']].rename(columns = {'credit_id' : \n",
    "                                                                                         'cast_credit_id', 'id' : 'actor_id'})"
   ]
  },
  {
   "cell_type": "code",
   "execution_count": 41,
   "metadata": {},
   "outputs": [
    {
     "data": {
      "text/plain": [
       "True"
      ]
     },
     "execution_count": 41,
     "metadata": {},
     "output_type": "execute_result"
    }
   ],
   "source": [
    "# cast_credit_id è la chiave primaria?\n",
    "valuta_chiave_singola(cast_normalizzata, 'cast_credit_id')"
   ]
  },
  {
   "cell_type": "code",
   "execution_count": 42,
   "metadata": {},
   "outputs": [
    {
     "data": {
      "text/html": [
       "<div>\n",
       "<style>\n",
       "    .dataframe thead tr:only-child th {\n",
       "        text-align: right;\n",
       "    }\n",
       "\n",
       "    .dataframe thead th {\n",
       "        text-align: left;\n",
       "    }\n",
       "\n",
       "    .dataframe tbody tr th {\n",
       "        vertical-align: top;\n",
       "    }\n",
       "</style>\n",
       "<table border=\"1\" class=\"dataframe\">\n",
       "  <thead>\n",
       "    <tr style=\"text-align: right;\">\n",
       "      <th></th>\n",
       "      <th>cast_credit_id</th>\n",
       "      <th>movie_id</th>\n",
       "      <th>cast_id</th>\n",
       "      <th>character</th>\n",
       "      <th>actor_id</th>\n",
       "      <th>order</th>\n",
       "    </tr>\n",
       "  </thead>\n",
       "  <tbody>\n",
       "    <tr>\n",
       "      <th>0.0</th>\n",
       "      <td>5602a8a7c3a3685532001c9a</td>\n",
       "      <td>19995</td>\n",
       "      <td>242.0</td>\n",
       "      <td>Jake Sully</td>\n",
       "      <td>65731.0</td>\n",
       "      <td>0.0</td>\n",
       "    </tr>\n",
       "    <tr>\n",
       "      <th>1.0</th>\n",
       "      <td>52fe48009251416c750ac9cb</td>\n",
       "      <td>19995</td>\n",
       "      <td>3.0</td>\n",
       "      <td>Neytiri</td>\n",
       "      <td>8691.0</td>\n",
       "      <td>1.0</td>\n",
       "    </tr>\n",
       "    <tr>\n",
       "      <th>2.0</th>\n",
       "      <td>52fe48009251416c750aca39</td>\n",
       "      <td>19995</td>\n",
       "      <td>25.0</td>\n",
       "      <td>Dr. Grace Augustine</td>\n",
       "      <td>10205.0</td>\n",
       "      <td>2.0</td>\n",
       "    </tr>\n",
       "    <tr>\n",
       "      <th>3.0</th>\n",
       "      <td>52fe48009251416c750ac9cf</td>\n",
       "      <td>19995</td>\n",
       "      <td>4.0</td>\n",
       "      <td>Col. Quaritch</td>\n",
       "      <td>32747.0</td>\n",
       "      <td>3.0</td>\n",
       "    </tr>\n",
       "    <tr>\n",
       "      <th>4.0</th>\n",
       "      <td>52fe48009251416c750ac9d3</td>\n",
       "      <td>19995</td>\n",
       "      <td>5.0</td>\n",
       "      <td>Trudy Chacon</td>\n",
       "      <td>17647.0</td>\n",
       "      <td>4.0</td>\n",
       "    </tr>\n",
       "  </tbody>\n",
       "</table>\n",
       "</div>"
      ],
      "text/plain": [
       "               cast_credit_id  movie_id  cast_id            character  \\\n",
       "0.0  5602a8a7c3a3685532001c9a     19995    242.0           Jake Sully   \n",
       "1.0  52fe48009251416c750ac9cb     19995      3.0              Neytiri   \n",
       "2.0  52fe48009251416c750aca39     19995     25.0  Dr. Grace Augustine   \n",
       "3.0  52fe48009251416c750ac9cf     19995      4.0        Col. Quaritch   \n",
       "4.0  52fe48009251416c750ac9d3     19995      5.0         Trudy Chacon   \n",
       "\n",
       "     actor_id  order  \n",
       "0.0   65731.0    0.0  \n",
       "1.0    8691.0    1.0  \n",
       "2.0   10205.0    2.0  \n",
       "3.0   32747.0    3.0  \n",
       "4.0   17647.0    4.0  "
      ]
     },
     "execution_count": 42,
     "metadata": {},
     "output_type": "execute_result"
    }
   ],
   "source": [
    "cast_normalizzata.head()"
   ]
  },
  {
   "cell_type": "code",
   "execution_count": 43,
   "metadata": {
    "collapsed": true
   },
   "outputs": [],
   "source": [
    "# cast_actors normalizzata\n",
    "cast_actors_normalizzata = cast[['id', 'name', 'gender']].drop_duplicates().rename(columns = {'id' : 'actor_id', 'name' : \n",
    "                                                                                                                 'actor_name'})"
   ]
  },
  {
   "cell_type": "code",
   "execution_count": 44,
   "metadata": {},
   "outputs": [
    {
     "data": {
      "text/plain": [
       "False"
      ]
     },
     "execution_count": 44,
     "metadata": {},
     "output_type": "execute_result"
    }
   ],
   "source": [
    "# actor_id è la chiave primaria?\n",
    "valuta_chiave_singola(cast_actors_normalizzata, 'actor_id')"
   ]
  },
  {
   "cell_type": "code",
   "execution_count": 45,
   "metadata": {},
   "outputs": [
    {
     "data": {
      "text/html": [
       "<div>\n",
       "<style>\n",
       "    .dataframe thead tr:only-child th {\n",
       "        text-align: right;\n",
       "    }\n",
       "\n",
       "    .dataframe thead th {\n",
       "        text-align: left;\n",
       "    }\n",
       "\n",
       "    .dataframe tbody tr th {\n",
       "        vertical-align: top;\n",
       "    }\n",
       "</style>\n",
       "<table border=\"1\" class=\"dataframe\">\n",
       "  <thead>\n",
       "    <tr style=\"text-align: right;\">\n",
       "      <th></th>\n",
       "      <th></th>\n",
       "      <th>size</th>\n",
       "    </tr>\n",
       "    <tr>\n",
       "      <th>actor_id</th>\n",
       "      <th>actor_name</th>\n",
       "      <th></th>\n",
       "    </tr>\n",
       "  </thead>\n",
       "  <tbody>\n",
       "    <tr>\n",
       "      <th>1189293.0</th>\n",
       "      <th>Erin Pitt</th>\n",
       "      <td>2</td>\n",
       "    </tr>\n",
       "  </tbody>\n",
       "</table>\n",
       "</div>"
      ],
      "text/plain": [
       "                      size\n",
       "actor_id  actor_name      \n",
       "1189293.0 Erin Pitt      2"
      ]
     },
     "execution_count": 45,
     "metadata": {},
     "output_type": "execute_result"
    }
   ],
   "source": [
    "# perchè non actor_id non risulta essere la chiave primaria?\n",
    "trova_errore = cast_actors_normalizzata.groupby(['actor_id', 'actor_name']).size().to_frame().rename(columns = {0 : 'size'})\n",
    "trova_errore[trova_errore['size'] != 1]"
   ]
  },
  {
   "cell_type": "code",
   "execution_count": 46,
   "metadata": {},
   "outputs": [
    {
     "data": {
      "text/html": [
       "<div>\n",
       "<style>\n",
       "    .dataframe thead tr:only-child th {\n",
       "        text-align: right;\n",
       "    }\n",
       "\n",
       "    .dataframe thead th {\n",
       "        text-align: left;\n",
       "    }\n",
       "\n",
       "    .dataframe tbody tr th {\n",
       "        vertical-align: top;\n",
       "    }\n",
       "</style>\n",
       "<table border=\"1\" class=\"dataframe\">\n",
       "  <thead>\n",
       "    <tr style=\"text-align: right;\">\n",
       "      <th></th>\n",
       "      <th>index</th>\n",
       "      <th>actor_id</th>\n",
       "      <th>actor_name</th>\n",
       "      <th>gender</th>\n",
       "    </tr>\n",
       "  </thead>\n",
       "  <tbody>\n",
       "    <tr>\n",
       "      <th>33144</th>\n",
       "      <td>10.0</td>\n",
       "      <td>1189293.0</td>\n",
       "      <td>Erin Pitt</td>\n",
       "      <td>1.0</td>\n",
       "    </tr>\n",
       "    <tr>\n",
       "      <th>50154</th>\n",
       "      <td>2.0</td>\n",
       "      <td>1189293.0</td>\n",
       "      <td>Erin Pitt</td>\n",
       "      <td>0.0</td>\n",
       "    </tr>\n",
       "  </tbody>\n",
       "</table>\n",
       "</div>"
      ],
      "text/plain": [
       "       index   actor_id actor_name  gender\n",
       "33144   10.0  1189293.0  Erin Pitt     1.0\n",
       "50154    2.0  1189293.0  Erin Pitt     0.0"
      ]
     },
     "execution_count": 46,
     "metadata": {},
     "output_type": "execute_result"
    }
   ],
   "source": [
    "cast_actors_normalizzata = cast_actors_normalizzata.reset_index()\n",
    "cast_actors_normalizzata[cast_actors_normalizzata['actor_name'] == 'Erin Pitt']"
   ]
  },
  {
   "cell_type": "code",
   "execution_count": 47,
   "metadata": {},
   "outputs": [
    {
     "data": {
      "text/html": [
       "<div>\n",
       "<style>\n",
       "    .dataframe thead tr:only-child th {\n",
       "        text-align: right;\n",
       "    }\n",
       "\n",
       "    .dataframe thead th {\n",
       "        text-align: left;\n",
       "    }\n",
       "\n",
       "    .dataframe tbody tr th {\n",
       "        vertical-align: top;\n",
       "    }\n",
       "</style>\n",
       "<table border=\"1\" class=\"dataframe\">\n",
       "  <thead>\n",
       "    <tr style=\"text-align: right;\">\n",
       "      <th></th>\n",
       "      <th>actor_id</th>\n",
       "      <th>actor_name</th>\n",
       "      <th>gender</th>\n",
       "    </tr>\n",
       "    <tr>\n",
       "      <th>index</th>\n",
       "      <th></th>\n",
       "      <th></th>\n",
       "      <th></th>\n",
       "    </tr>\n",
       "  </thead>\n",
       "  <tbody>\n",
       "    <tr>\n",
       "      <th>10.0</th>\n",
       "      <td>1189293.0</td>\n",
       "      <td>Erin Pitt</td>\n",
       "      <td>1.0</td>\n",
       "    </tr>\n",
       "  </tbody>\n",
       "</table>\n",
       "</div>"
      ],
      "text/plain": [
       "        actor_id actor_name  gender\n",
       "index                              \n",
       "10.0   1189293.0  Erin Pitt     1.0"
      ]
     },
     "execution_count": 47,
     "metadata": {},
     "output_type": "execute_result"
    }
   ],
   "source": [
    "cast_actors_normalizzata = cast_actors_normalizzata.drop(50154).set_index('index')\n",
    "cast_actors_normalizzata[cast_actors_normalizzata['actor_name'] == 'Erin Pitt']"
   ]
  },
  {
   "cell_type": "code",
   "execution_count": 48,
   "metadata": {},
   "outputs": [
    {
     "data": {
      "text/plain": [
       "True"
      ]
     },
     "execution_count": 48,
     "metadata": {},
     "output_type": "execute_result"
    }
   ],
   "source": [
    "# ora actor_id è la chiave primaria?\n",
    "valuta_chiave_singola(cast_actors_normalizzata, 'actor_id')"
   ]
  },
  {
   "cell_type": "code",
   "execution_count": 49,
   "metadata": {},
   "outputs": [
    {
     "data": {
      "text/html": [
       "<div>\n",
       "<style>\n",
       "    .dataframe thead tr:only-child th {\n",
       "        text-align: right;\n",
       "    }\n",
       "\n",
       "    .dataframe thead th {\n",
       "        text-align: left;\n",
       "    }\n",
       "\n",
       "    .dataframe tbody tr th {\n",
       "        vertical-align: top;\n",
       "    }\n",
       "</style>\n",
       "<table border=\"1\" class=\"dataframe\">\n",
       "  <thead>\n",
       "    <tr style=\"text-align: right;\">\n",
       "      <th></th>\n",
       "      <th>actor_id</th>\n",
       "      <th>actor_name</th>\n",
       "      <th>gender</th>\n",
       "    </tr>\n",
       "    <tr>\n",
       "      <th>index</th>\n",
       "      <th></th>\n",
       "      <th></th>\n",
       "      <th></th>\n",
       "    </tr>\n",
       "  </thead>\n",
       "  <tbody>\n",
       "    <tr>\n",
       "      <th>0.0</th>\n",
       "      <td>65731.0</td>\n",
       "      <td>Sam Worthington</td>\n",
       "      <td>2.0</td>\n",
       "    </tr>\n",
       "    <tr>\n",
       "      <th>1.0</th>\n",
       "      <td>8691.0</td>\n",
       "      <td>Zoe Saldana</td>\n",
       "      <td>1.0</td>\n",
       "    </tr>\n",
       "    <tr>\n",
       "      <th>2.0</th>\n",
       "      <td>10205.0</td>\n",
       "      <td>Sigourney Weaver</td>\n",
       "      <td>1.0</td>\n",
       "    </tr>\n",
       "    <tr>\n",
       "      <th>3.0</th>\n",
       "      <td>32747.0</td>\n",
       "      <td>Stephen Lang</td>\n",
       "      <td>2.0</td>\n",
       "    </tr>\n",
       "    <tr>\n",
       "      <th>4.0</th>\n",
       "      <td>17647.0</td>\n",
       "      <td>Michelle Rodriguez</td>\n",
       "      <td>1.0</td>\n",
       "    </tr>\n",
       "  </tbody>\n",
       "</table>\n",
       "</div>"
      ],
      "text/plain": [
       "       actor_id          actor_name  gender\n",
       "index                                      \n",
       "0.0     65731.0     Sam Worthington     2.0\n",
       "1.0      8691.0         Zoe Saldana     1.0\n",
       "2.0     10205.0    Sigourney Weaver     1.0\n",
       "3.0     32747.0        Stephen Lang     2.0\n",
       "4.0     17647.0  Michelle Rodriguez     1.0"
      ]
     },
     "execution_count": 49,
     "metadata": {},
     "output_type": "execute_result"
    }
   ],
   "source": [
    "cast_actors_normalizzata.head()"
   ]
  },
  {
   "cell_type": "code",
   "execution_count": 50,
   "metadata": {
    "collapsed": true
   },
   "outputs": [],
   "source": [
    "# crew_normalizzata\n",
    "crew_normalizzata = crew[['credit_id', 'movie_id', 'department', 'job', 'id']].rename(columns = {'credit_id' : 'crew_credit_id',\n",
    "                                                                                                            'id' : 'crew_id'})"
   ]
  },
  {
   "cell_type": "code",
   "execution_count": 51,
   "metadata": {},
   "outputs": [
    {
     "data": {
      "text/plain": [
       "True"
      ]
     },
     "execution_count": 51,
     "metadata": {},
     "output_type": "execute_result"
    }
   ],
   "source": [
    "# credit_id è la chiave primaria?\n",
    "valuta_chiave_singola(crew_normalizzata, 'crew_credit_id')"
   ]
  },
  {
   "cell_type": "code",
   "execution_count": 52,
   "metadata": {},
   "outputs": [
    {
     "data": {
      "text/html": [
       "<div>\n",
       "<style>\n",
       "    .dataframe thead tr:only-child th {\n",
       "        text-align: right;\n",
       "    }\n",
       "\n",
       "    .dataframe thead th {\n",
       "        text-align: left;\n",
       "    }\n",
       "\n",
       "    .dataframe tbody tr th {\n",
       "        vertical-align: top;\n",
       "    }\n",
       "</style>\n",
       "<table border=\"1\" class=\"dataframe\">\n",
       "  <thead>\n",
       "    <tr style=\"text-align: right;\">\n",
       "      <th></th>\n",
       "      <th>crew_credit_id</th>\n",
       "      <th>movie_id</th>\n",
       "      <th>department</th>\n",
       "      <th>job</th>\n",
       "      <th>crew_id</th>\n",
       "    </tr>\n",
       "  </thead>\n",
       "  <tbody>\n",
       "    <tr>\n",
       "      <th>0.0</th>\n",
       "      <td>52fe48009251416c750aca23</td>\n",
       "      <td>19995</td>\n",
       "      <td>Editing</td>\n",
       "      <td>Editor</td>\n",
       "      <td>1721.0</td>\n",
       "    </tr>\n",
       "    <tr>\n",
       "      <th>1.0</th>\n",
       "      <td>539c47ecc3a36810e3001f87</td>\n",
       "      <td>19995</td>\n",
       "      <td>Art</td>\n",
       "      <td>Production Design</td>\n",
       "      <td>496.0</td>\n",
       "    </tr>\n",
       "    <tr>\n",
       "      <th>2.0</th>\n",
       "      <td>54491c89c3a3680fb4001cf7</td>\n",
       "      <td>19995</td>\n",
       "      <td>Sound</td>\n",
       "      <td>Sound Designer</td>\n",
       "      <td>900.0</td>\n",
       "    </tr>\n",
       "    <tr>\n",
       "      <th>3.0</th>\n",
       "      <td>54491cb70e0a267480001bd0</td>\n",
       "      <td>19995</td>\n",
       "      <td>Sound</td>\n",
       "      <td>Supervising Sound Editor</td>\n",
       "      <td>900.0</td>\n",
       "    </tr>\n",
       "    <tr>\n",
       "      <th>4.0</th>\n",
       "      <td>539c4a4cc3a36810c9002101</td>\n",
       "      <td>19995</td>\n",
       "      <td>Production</td>\n",
       "      <td>Casting</td>\n",
       "      <td>1262.0</td>\n",
       "    </tr>\n",
       "  </tbody>\n",
       "</table>\n",
       "</div>"
      ],
      "text/plain": [
       "               crew_credit_id  movie_id  department                       job  \\\n",
       "0.0  52fe48009251416c750aca23     19995     Editing                    Editor   \n",
       "1.0  539c47ecc3a36810e3001f87     19995         Art         Production Design   \n",
       "2.0  54491c89c3a3680fb4001cf7     19995       Sound            Sound Designer   \n",
       "3.0  54491cb70e0a267480001bd0     19995       Sound  Supervising Sound Editor   \n",
       "4.0  539c4a4cc3a36810c9002101     19995  Production                   Casting   \n",
       "\n",
       "     crew_id  \n",
       "0.0   1721.0  \n",
       "1.0    496.0  \n",
       "2.0    900.0  \n",
       "3.0    900.0  \n",
       "4.0   1262.0  "
      ]
     },
     "execution_count": 52,
     "metadata": {},
     "output_type": "execute_result"
    }
   ],
   "source": [
    "crew_normalizzata.head()"
   ]
  },
  {
   "cell_type": "code",
   "execution_count": 53,
   "metadata": {
    "collapsed": true
   },
   "outputs": [],
   "source": [
    "# crew_members normalizzata\n",
    "crew_members_normalizzata = crew[['id', 'name', 'gender']].drop_duplicates().rename(columns = {'id' : 'crew_id',\n",
    "                                                                                        'name' : 'member_name'})"
   ]
  },
  {
   "cell_type": "code",
   "execution_count": 54,
   "metadata": {},
   "outputs": [
    {
     "data": {
      "text/plain": [
       "False"
      ]
     },
     "execution_count": 54,
     "metadata": {},
     "output_type": "execute_result"
    }
   ],
   "source": [
    "# crew_id è la chiave primaria?\n",
    "valuta_chiave_singola(crew_members_normalizzata, 'crew_id')"
   ]
  },
  {
   "cell_type": "code",
   "execution_count": 55,
   "metadata": {},
   "outputs": [
    {
     "data": {
      "text/html": [
       "<div>\n",
       "<style>\n",
       "    .dataframe thead tr:only-child th {\n",
       "        text-align: right;\n",
       "    }\n",
       "\n",
       "    .dataframe thead th {\n",
       "        text-align: left;\n",
       "    }\n",
       "\n",
       "    .dataframe tbody tr th {\n",
       "        vertical-align: top;\n",
       "    }\n",
       "</style>\n",
       "<table border=\"1\" class=\"dataframe\">\n",
       "  <thead>\n",
       "    <tr style=\"text-align: right;\">\n",
       "      <th></th>\n",
       "      <th></th>\n",
       "      <th>size</th>\n",
       "    </tr>\n",
       "    <tr>\n",
       "      <th>crew_id</th>\n",
       "      <th>member_name</th>\n",
       "      <th></th>\n",
       "    </tr>\n",
       "  </thead>\n",
       "  <tbody>\n",
       "    <tr>\n",
       "      <th>30711.0</th>\n",
       "      <th>Kenneth Lonergan</th>\n",
       "      <td>2</td>\n",
       "    </tr>\n",
       "  </tbody>\n",
       "</table>\n",
       "</div>"
      ],
      "text/plain": [
       "                          size\n",
       "crew_id member_name           \n",
       "30711.0 Kenneth Lonergan     2"
      ]
     },
     "execution_count": 55,
     "metadata": {},
     "output_type": "execute_result"
    }
   ],
   "source": [
    "# come nel caso della tabella cast_actors_normalizzata\n",
    "trova_errore = crew_members_normalizzata.groupby(['crew_id', 'member_name']).size().to_frame().rename(columns = {0 : 'size'})\n",
    "trova_errore[trova_errore['size'] != 1]"
   ]
  },
  {
   "cell_type": "code",
   "execution_count": 56,
   "metadata": {},
   "outputs": [
    {
     "data": {
      "text/html": [
       "<div>\n",
       "<style>\n",
       "    .dataframe thead tr:only-child th {\n",
       "        text-align: right;\n",
       "    }\n",
       "\n",
       "    .dataframe thead th {\n",
       "        text-align: left;\n",
       "    }\n",
       "\n",
       "    .dataframe tbody tr th {\n",
       "        vertical-align: top;\n",
       "    }\n",
       "</style>\n",
       "<table border=\"1\" class=\"dataframe\">\n",
       "  <thead>\n",
       "    <tr style=\"text-align: right;\">\n",
       "      <th></th>\n",
       "      <th>index</th>\n",
       "      <th>crew_id</th>\n",
       "      <th>member_name</th>\n",
       "      <th>gender</th>\n",
       "    </tr>\n",
       "  </thead>\n",
       "  <tbody>\n",
       "    <tr>\n",
       "      <th>11921</th>\n",
       "      <td>20.0</td>\n",
       "      <td>30711.0</td>\n",
       "      <td>Kenneth Lonergan</td>\n",
       "      <td>0.0</td>\n",
       "    </tr>\n",
       "    <tr>\n",
       "      <th>39310</th>\n",
       "      <td>9.0</td>\n",
       "      <td>30711.0</td>\n",
       "      <td>Kenneth Lonergan</td>\n",
       "      <td>2.0</td>\n",
       "    </tr>\n",
       "  </tbody>\n",
       "</table>\n",
       "</div>"
      ],
      "text/plain": [
       "       index  crew_id       member_name  gender\n",
       "11921   20.0  30711.0  Kenneth Lonergan     0.0\n",
       "39310    9.0  30711.0  Kenneth Lonergan     2.0"
      ]
     },
     "execution_count": 56,
     "metadata": {},
     "output_type": "execute_result"
    }
   ],
   "source": [
    "crew_members_normalizzata = crew_members_normalizzata.reset_index()\n",
    "crew_members_normalizzata[crew_members_normalizzata['member_name'] == 'Kenneth Lonergan']"
   ]
  },
  {
   "cell_type": "code",
   "execution_count": 57,
   "metadata": {},
   "outputs": [
    {
     "data": {
      "text/html": [
       "<div>\n",
       "<style>\n",
       "    .dataframe thead tr:only-child th {\n",
       "        text-align: right;\n",
       "    }\n",
       "\n",
       "    .dataframe thead th {\n",
       "        text-align: left;\n",
       "    }\n",
       "\n",
       "    .dataframe tbody tr th {\n",
       "        vertical-align: top;\n",
       "    }\n",
       "</style>\n",
       "<table border=\"1\" class=\"dataframe\">\n",
       "  <thead>\n",
       "    <tr style=\"text-align: right;\">\n",
       "      <th></th>\n",
       "      <th>crew_id</th>\n",
       "      <th>member_name</th>\n",
       "      <th>gender</th>\n",
       "    </tr>\n",
       "    <tr>\n",
       "      <th>index</th>\n",
       "      <th></th>\n",
       "      <th></th>\n",
       "      <th></th>\n",
       "    </tr>\n",
       "  </thead>\n",
       "  <tbody>\n",
       "    <tr>\n",
       "      <th>9.0</th>\n",
       "      <td>30711.0</td>\n",
       "      <td>Kenneth Lonergan</td>\n",
       "      <td>2.0</td>\n",
       "    </tr>\n",
       "  </tbody>\n",
       "</table>\n",
       "</div>"
      ],
      "text/plain": [
       "       crew_id       member_name  gender\n",
       "index                                   \n",
       "9.0    30711.0  Kenneth Lonergan     2.0"
      ]
     },
     "execution_count": 57,
     "metadata": {},
     "output_type": "execute_result"
    }
   ],
   "source": [
    "crew_members_normalizzata = crew_members_normalizzata.drop(11921).set_index('index')\n",
    "crew_members_normalizzata[crew_members_normalizzata['member_name'] == 'Kenneth Lonergan']"
   ]
  },
  {
   "cell_type": "code",
   "execution_count": 58,
   "metadata": {},
   "outputs": [
    {
     "data": {
      "text/plain": [
       "True"
      ]
     },
     "execution_count": 58,
     "metadata": {},
     "output_type": "execute_result"
    }
   ],
   "source": [
    "# ora crew_id è la chiave primaria?\n",
    "valuta_chiave_singola(crew_members_normalizzata, 'crew_id')"
   ]
  },
  {
   "cell_type": "code",
   "execution_count": 59,
   "metadata": {},
   "outputs": [
    {
     "data": {
      "text/html": [
       "<div>\n",
       "<style>\n",
       "    .dataframe thead tr:only-child th {\n",
       "        text-align: right;\n",
       "    }\n",
       "\n",
       "    .dataframe thead th {\n",
       "        text-align: left;\n",
       "    }\n",
       "\n",
       "    .dataframe tbody tr th {\n",
       "        vertical-align: top;\n",
       "    }\n",
       "</style>\n",
       "<table border=\"1\" class=\"dataframe\">\n",
       "  <thead>\n",
       "    <tr style=\"text-align: right;\">\n",
       "      <th></th>\n",
       "      <th>crew_id</th>\n",
       "      <th>member_name</th>\n",
       "      <th>gender</th>\n",
       "    </tr>\n",
       "    <tr>\n",
       "      <th>index</th>\n",
       "      <th></th>\n",
       "      <th></th>\n",
       "      <th></th>\n",
       "    </tr>\n",
       "  </thead>\n",
       "  <tbody>\n",
       "    <tr>\n",
       "      <th>0.0</th>\n",
       "      <td>1721.0</td>\n",
       "      <td>Stephen E. Rivkin</td>\n",
       "      <td>0.0</td>\n",
       "    </tr>\n",
       "    <tr>\n",
       "      <th>1.0</th>\n",
       "      <td>496.0</td>\n",
       "      <td>Rick Carter</td>\n",
       "      <td>2.0</td>\n",
       "    </tr>\n",
       "    <tr>\n",
       "      <th>2.0</th>\n",
       "      <td>900.0</td>\n",
       "      <td>Christopher Boyes</td>\n",
       "      <td>0.0</td>\n",
       "    </tr>\n",
       "    <tr>\n",
       "      <th>4.0</th>\n",
       "      <td>1262.0</td>\n",
       "      <td>Mali Finn</td>\n",
       "      <td>1.0</td>\n",
       "    </tr>\n",
       "    <tr>\n",
       "      <th>5.0</th>\n",
       "      <td>1729.0</td>\n",
       "      <td>James Horner</td>\n",
       "      <td>2.0</td>\n",
       "    </tr>\n",
       "  </tbody>\n",
       "</table>\n",
       "</div>"
      ],
      "text/plain": [
       "       crew_id        member_name  gender\n",
       "index                                    \n",
       "0.0     1721.0  Stephen E. Rivkin     0.0\n",
       "1.0      496.0        Rick Carter     2.0\n",
       "2.0      900.0  Christopher Boyes     0.0\n",
       "4.0     1262.0          Mali Finn     1.0\n",
       "5.0     1729.0       James Horner     2.0"
      ]
     },
     "execution_count": 59,
     "metadata": {},
     "output_type": "execute_result"
    }
   ],
   "source": [
    "crew_members_normalizzata.head()"
   ]
  },
  {
   "cell_type": "markdown",
   "metadata": {},
   "source": [
    "6) For each movie, compute the gross margin (difference between revenue and budget)\n"
   ]
  },
  {
   "cell_type": "code",
   "execution_count": 60,
   "metadata": {},
   "outputs": [
    {
     "data": {
      "text/html": [
       "<div>\n",
       "<style>\n",
       "    .dataframe thead tr:only-child th {\n",
       "        text-align: right;\n",
       "    }\n",
       "\n",
       "    .dataframe thead th {\n",
       "        text-align: left;\n",
       "    }\n",
       "\n",
       "    .dataframe tbody tr th {\n",
       "        vertical-align: top;\n",
       "    }\n",
       "</style>\n",
       "<table border=\"1\" class=\"dataframe\">\n",
       "  <thead>\n",
       "    <tr style=\"text-align: right;\">\n",
       "      <th></th>\n",
       "      <th>movie_id</th>\n",
       "      <th>en_title</th>\n",
       "      <th>gross_margin</th>\n",
       "    </tr>\n",
       "  </thead>\n",
       "  <tbody>\n",
       "    <tr>\n",
       "      <th>0</th>\n",
       "      <td>19995</td>\n",
       "      <td>Avatar</td>\n",
       "      <td>2550965087</td>\n",
       "    </tr>\n",
       "    <tr>\n",
       "      <th>1</th>\n",
       "      <td>285</td>\n",
       "      <td>Pirates of the Caribbean: At World's End</td>\n",
       "      <td>661000000</td>\n",
       "    </tr>\n",
       "    <tr>\n",
       "      <th>2</th>\n",
       "      <td>206647</td>\n",
       "      <td>Spectre</td>\n",
       "      <td>635674609</td>\n",
       "    </tr>\n",
       "    <tr>\n",
       "      <th>3</th>\n",
       "      <td>49026</td>\n",
       "      <td>The Dark Knight Rises</td>\n",
       "      <td>834939099</td>\n",
       "    </tr>\n",
       "    <tr>\n",
       "      <th>4</th>\n",
       "      <td>49529</td>\n",
       "      <td>John Carter</td>\n",
       "      <td>24139100</td>\n",
       "    </tr>\n",
       "  </tbody>\n",
       "</table>\n",
       "</div>"
      ],
      "text/plain": [
       "   movie_id                                  en_title  gross_margin\n",
       "0     19995                                    Avatar    2550965087\n",
       "1       285  Pirates of the Caribbean: At World's End     661000000\n",
       "2    206647                                   Spectre     635674609\n",
       "3     49026                     The Dark Knight Rises     834939099\n",
       "4     49529                               John Carter      24139100"
      ]
     },
     "execution_count": 60,
     "metadata": {},
     "output_type": "execute_result"
    }
   ],
   "source": [
    "movies_normalizzata['gross_margin'] = movies_normalizzata['revenue'] - movies_normalizzata['budget']\n",
    "movies_normalizzata[['movie_id', 'en_title', 'gross_margin']].head()"
   ]
  },
  {
   "cell_type": "markdown",
   "metadata": {},
   "source": [
    "7) For each movie, compute the number of crew members"
   ]
  },
  {
   "cell_type": "code",
   "execution_count": 61,
   "metadata": {},
   "outputs": [
    {
     "data": {
      "text/html": [
       "<div>\n",
       "<style>\n",
       "    .dataframe thead tr:only-child th {\n",
       "        text-align: right;\n",
       "    }\n",
       "\n",
       "    .dataframe thead th {\n",
       "        text-align: left;\n",
       "    }\n",
       "\n",
       "    .dataframe tbody tr th {\n",
       "        vertical-align: top;\n",
       "    }\n",
       "</style>\n",
       "<table border=\"1\" class=\"dataframe\">\n",
       "  <thead>\n",
       "    <tr style=\"text-align: right;\">\n",
       "      <th></th>\n",
       "      <th>movie_id</th>\n",
       "      <th>title</th>\n",
       "      <th>crew_credit_id</th>\n",
       "    </tr>\n",
       "  </thead>\n",
       "  <tbody>\n",
       "    <tr>\n",
       "      <th>0</th>\n",
       "      <td>5</td>\n",
       "      <td>Four Rooms</td>\n",
       "      <td>88</td>\n",
       "    </tr>\n",
       "    <tr>\n",
       "      <th>1</th>\n",
       "      <td>11</td>\n",
       "      <td>Star Wars</td>\n",
       "      <td>20</td>\n",
       "    </tr>\n",
       "    <tr>\n",
       "      <th>2</th>\n",
       "      <td>12</td>\n",
       "      <td>Finding Nemo</td>\n",
       "      <td>104</td>\n",
       "    </tr>\n",
       "    <tr>\n",
       "      <th>3</th>\n",
       "      <td>13</td>\n",
       "      <td>Forrest Gump</td>\n",
       "      <td>93</td>\n",
       "    </tr>\n",
       "    <tr>\n",
       "      <th>4</th>\n",
       "      <td>14</td>\n",
       "      <td>American Beauty</td>\n",
       "      <td>109</td>\n",
       "    </tr>\n",
       "  </tbody>\n",
       "</table>\n",
       "</div>"
      ],
      "text/plain": [
       "   movie_id            title  crew_credit_id\n",
       "0         5       Four Rooms              88\n",
       "1        11        Star Wars              20\n",
       "2        12     Finding Nemo             104\n",
       "3        13     Forrest Gump              93\n",
       "4        14  American Beauty             109"
      ]
     },
     "execution_count": 61,
     "metadata": {},
     "output_type": "execute_result"
    }
   ],
   "source": [
    "crew_n = pd.merge(left = crew_normalizzata, right = credits_n, on = 'movie_id')\n",
    "crew_number = crew_n.groupby(['movie_id', 'title']).count()['crew_credit_id'].to_frame().reset_index().rename(\n",
    "                                                                                        columns = {'credit_id' : 'crew_number'})\n",
    "crew_number.head()"
   ]
  },
  {
   "cell_type": "markdown",
   "metadata": {},
   "source": [
    "8) For each movie, compute the number of directors"
   ]
  },
  {
   "cell_type": "code",
   "execution_count": 62,
   "metadata": {},
   "outputs": [
    {
     "data": {
      "text/html": [
       "<div>\n",
       "<style>\n",
       "    .dataframe thead tr:only-child th {\n",
       "        text-align: right;\n",
       "    }\n",
       "\n",
       "    .dataframe thead th {\n",
       "        text-align: left;\n",
       "    }\n",
       "\n",
       "    .dataframe tbody tr th {\n",
       "        vertical-align: top;\n",
       "    }\n",
       "</style>\n",
       "<table border=\"1\" class=\"dataframe\">\n",
       "  <thead>\n",
       "    <tr style=\"text-align: right;\">\n",
       "      <th></th>\n",
       "      <th>movie_id</th>\n",
       "      <th>title</th>\n",
       "      <th>number_directors</th>\n",
       "    </tr>\n",
       "  </thead>\n",
       "  <tbody>\n",
       "    <tr>\n",
       "      <th>0</th>\n",
       "      <td>5</td>\n",
       "      <td>Four Rooms</td>\n",
       "      <td>4</td>\n",
       "    </tr>\n",
       "    <tr>\n",
       "      <th>1</th>\n",
       "      <td>11</td>\n",
       "      <td>Star Wars</td>\n",
       "      <td>1</td>\n",
       "    </tr>\n",
       "    <tr>\n",
       "      <th>2</th>\n",
       "      <td>12</td>\n",
       "      <td>Finding Nemo</td>\n",
       "      <td>1</td>\n",
       "    </tr>\n",
       "    <tr>\n",
       "      <th>3</th>\n",
       "      <td>13</td>\n",
       "      <td>Forrest Gump</td>\n",
       "      <td>1</td>\n",
       "    </tr>\n",
       "    <tr>\n",
       "      <th>4</th>\n",
       "      <td>14</td>\n",
       "      <td>American Beauty</td>\n",
       "      <td>1</td>\n",
       "    </tr>\n",
       "  </tbody>\n",
       "</table>\n",
       "</div>"
      ],
      "text/plain": [
       "   movie_id            title  number_directors\n",
       "0         5       Four Rooms                 4\n",
       "1        11        Star Wars                 1\n",
       "2        12     Finding Nemo                 1\n",
       "3        13     Forrest Gump                 1\n",
       "4        14  American Beauty                 1"
      ]
     },
     "execution_count": 62,
     "metadata": {},
     "output_type": "execute_result"
    }
   ],
   "source": [
    "directors = (crew_n[crew_n['job'] == 'Director']).groupby(['movie_id', 'title']).size().to_frame().rename(\n",
    "                                                                                columns = {0 : 'number_directors'}).reset_index()\n",
    "directors.head()"
   ]
  },
  {
   "cell_type": "markdown",
   "metadata": {},
   "source": [
    "9) For each language, compute the number of movies where such language is spoken."
   ]
  },
  {
   "cell_type": "code",
   "execution_count": 63,
   "metadata": {},
   "outputs": [
    {
     "data": {
      "text/html": [
       "<div>\n",
       "<style>\n",
       "    .dataframe thead tr:only-child th {\n",
       "        text-align: right;\n",
       "    }\n",
       "\n",
       "    .dataframe thead th {\n",
       "        text-align: left;\n",
       "    }\n",
       "\n",
       "    .dataframe tbody tr th {\n",
       "        vertical-align: top;\n",
       "    }\n",
       "</style>\n",
       "<table border=\"1\" class=\"dataframe\">\n",
       "  <thead>\n",
       "    <tr style=\"text-align: right;\">\n",
       "      <th></th>\n",
       "      <th>language_id</th>\n",
       "      <th>name</th>\n",
       "      <th>number_languages</th>\n",
       "    </tr>\n",
       "  </thead>\n",
       "  <tbody>\n",
       "    <tr>\n",
       "      <th>0</th>\n",
       "      <td>af</td>\n",
       "      <td>Afrikaans</td>\n",
       "      <td>7</td>\n",
       "    </tr>\n",
       "    <tr>\n",
       "      <th>1</th>\n",
       "      <td>am</td>\n",
       "      <td></td>\n",
       "      <td>1</td>\n",
       "    </tr>\n",
       "    <tr>\n",
       "      <th>2</th>\n",
       "      <td>ar</td>\n",
       "      <td>العربية</td>\n",
       "      <td>67</td>\n",
       "    </tr>\n",
       "    <tr>\n",
       "      <th>3</th>\n",
       "      <td>bg</td>\n",
       "      <td>български език</td>\n",
       "      <td>3</td>\n",
       "    </tr>\n",
       "    <tr>\n",
       "      <th>4</th>\n",
       "      <td>bm</td>\n",
       "      <td>Bamanankan</td>\n",
       "      <td>1</td>\n",
       "    </tr>\n",
       "  </tbody>\n",
       "</table>\n",
       "</div>"
      ],
      "text/plain": [
       "  language_id            name  number_languages\n",
       "0          af       Afrikaans                 7\n",
       "1          am                                 1\n",
       "2          ar         العربية                67\n",
       "3          bg  български език                 3\n",
       "4          bm      Bamanankan                 1"
      ]
     },
     "execution_count": 63,
     "metadata": {},
     "output_type": "execute_result"
    }
   ],
   "source": [
    "movies_language = spoken_languages.groupby(['language_id', 'name']).size().to_frame().rename(\n",
    "                                                    columns = {'name' : 'language_name',0 : 'number_languages'}).reset_index()\n",
    "movies_language.head()"
   ]
  },
  {
   "cell_type": "markdown",
   "metadata": {},
   "source": [
    "10) For each company and each decade, compute the overall revenue"
   ]
  },
  {
   "cell_type": "code",
   "execution_count": 64,
   "metadata": {},
   "outputs": [
    {
     "name": "stderr",
     "output_type": "stream",
     "text": [
      "C:\\Users\\aless\\Anaconda3\\lib\\site-packages\\ipykernel_launcher.py:1: FutureWarning: currently extract(expand=None) means expand=False (return Index/Series/DataFrame) but in a future version of pandas this will be changed to expand=True (return DataFrame)\n",
      "  \"\"\"Entry point for launching an IPython kernel.\n",
      "C:\\Users\\aless\\Anaconda3\\lib\\site-packages\\ipykernel_launcher.py:2: FutureWarning: currently extract(expand=None) means expand=False (return Index/Series/DataFrame) but in a future version of pandas this will be changed to expand=True (return DataFrame)\n",
      "  \n"
     ]
    },
    {
     "data": {
      "text/html": [
       "<div>\n",
       "<style>\n",
       "    .dataframe thead tr:only-child th {\n",
       "        text-align: right;\n",
       "    }\n",
       "\n",
       "    .dataframe thead th {\n",
       "        text-align: left;\n",
       "    }\n",
       "\n",
       "    .dataframe tbody tr th {\n",
       "        vertical-align: top;\n",
       "    }\n",
       "</style>\n",
       "<table border=\"1\" class=\"dataframe\">\n",
       "  <thead>\n",
       "    <tr style=\"text-align: right;\">\n",
       "      <th></th>\n",
       "      <th>production_company</th>\n",
       "      <th>decade</th>\n",
       "      <th>overall_revenue</th>\n",
       "    </tr>\n",
       "  </thead>\n",
       "  <tbody>\n",
       "    <tr>\n",
       "      <th>0</th>\n",
       "      <td>\"DIA\" Productions GmbH &amp; Co. KG</td>\n",
       "      <td>2000</td>\n",
       "      <td>44350926</td>\n",
       "    </tr>\n",
       "    <tr>\n",
       "      <th>1</th>\n",
       "      <td>1.85 Films</td>\n",
       "      <td>2010</td>\n",
       "      <td>98017</td>\n",
       "    </tr>\n",
       "    <tr>\n",
       "      <th>2</th>\n",
       "      <td>10 West Studios</td>\n",
       "      <td>2010</td>\n",
       "      <td>0</td>\n",
       "    </tr>\n",
       "    <tr>\n",
       "      <th>3</th>\n",
       "      <td>100 Bares</td>\n",
       "      <td>2000</td>\n",
       "      <td>33965843</td>\n",
       "    </tr>\n",
       "    <tr>\n",
       "      <th>4</th>\n",
       "      <td>100 Bares</td>\n",
       "      <td>2010</td>\n",
       "      <td>24000000</td>\n",
       "    </tr>\n",
       "  </tbody>\n",
       "</table>\n",
       "</div>"
      ],
      "text/plain": [
       "                production_company decade  overall_revenue\n",
       "0  \"DIA\" Productions GmbH & Co. KG   2000         44350926\n",
       "1                       1.85 Films   2010            98017\n",
       "2                  10 West Studios   2010                0\n",
       "3                        100 Bares   2000         33965843\n",
       "4                        100 Bares   2010         24000000"
      ]
     },
     "execution_count": 64,
     "metadata": {},
     "output_type": "execute_result"
    }
   ],
   "source": [
    "movies_normalizzata['year'] = movies_normalizzata['release_date'].str.extract('(\\d\\d\\d\\d)')\n",
    "movies_normalizzata['decade'] = (movies_normalizzata['year'].str.extract('(\\d\\d\\d)')) + '0'\n",
    "movies_companies = movies_normalizzata.merge(production_companies_normalizzata, on = 'movie_id')\n",
    "overall_revenue = movies_companies.groupby(['production_company', 'decade']).sum()['revenue'].to_frame().rename(\n",
    "                                                            columns = {'revenue' : 'overall_revenue'}).reset_index()\n",
    "overall_revenue.head()"
   ]
  },
  {
   "cell_type": "markdown",
   "metadata": {},
   "source": [
    "11) For each decade, compute the company with maximum revenue"
   ]
  },
  {
   "cell_type": "code",
   "execution_count": 65,
   "metadata": {},
   "outputs": [
    {
     "data": {
      "text/html": [
       "<div>\n",
       "<style>\n",
       "    .dataframe thead tr:only-child th {\n",
       "        text-align: right;\n",
       "    }\n",
       "\n",
       "    .dataframe thead th {\n",
       "        text-align: left;\n",
       "    }\n",
       "\n",
       "    .dataframe tbody tr th {\n",
       "        vertical-align: top;\n",
       "    }\n",
       "</style>\n",
       "<table border=\"1\" class=\"dataframe\">\n",
       "  <thead>\n",
       "    <tr style=\"text-align: right;\">\n",
       "      <th></th>\n",
       "      <th>revenue</th>\n",
       "      <th>decade</th>\n",
       "      <th>production_company</th>\n",
       "    </tr>\n",
       "  </thead>\n",
       "  <tbody>\n",
       "    <tr>\n",
       "      <th>0</th>\n",
       "      <td>8394751</td>\n",
       "      <td>1910</td>\n",
       "      <td>Triangle Film Corporation</td>\n",
       "    </tr>\n",
       "    <tr>\n",
       "      <th>1</th>\n",
       "      <td>8394751</td>\n",
       "      <td>1910</td>\n",
       "      <td>Wark Producing Corp.</td>\n",
       "    </tr>\n",
       "    <tr>\n",
       "      <th>2</th>\n",
       "      <td>22000000</td>\n",
       "      <td>1920</td>\n",
       "      <td>Metro-Goldwyn-Mayer (MGM)</td>\n",
       "    </tr>\n",
       "    <tr>\n",
       "      <th>3</th>\n",
       "      <td>400176459</td>\n",
       "      <td>1930</td>\n",
       "      <td>Selznick International Pictures</td>\n",
       "    </tr>\n",
       "    <tr>\n",
       "      <th>4</th>\n",
       "      <td>400176459</td>\n",
       "      <td>1930</td>\n",
       "      <td>Metro-Goldwyn-Mayer (MGM)</td>\n",
       "    </tr>\n",
       "  </tbody>\n",
       "</table>\n",
       "</div>"
      ],
      "text/plain": [
       "     revenue decade               production_company\n",
       "0    8394751   1910        Triangle Film Corporation\n",
       "1    8394751   1910             Wark Producing Corp.\n",
       "2   22000000   1920        Metro-Goldwyn-Mayer (MGM)\n",
       "3  400176459   1930  Selznick International Pictures\n",
       "4  400176459   1930        Metro-Goldwyn-Mayer (MGM)"
      ]
     },
     "execution_count": 65,
     "metadata": {},
     "output_type": "execute_result"
    }
   ],
   "source": [
    "maximum_revenue = movies_companies.groupby(['decade']).max()['revenue'].to_frame()\n",
    "max_revenue = maximum_revenue.merge(movies_companies, on = 'revenue')\n",
    "max_revenues = max_revenue[['revenue', 'decade', 'production_company']]\n",
    "max_revenues.head()"
   ]
  },
  {
   "cell_type": "markdown",
   "metadata": {},
   "source": [
    "12) In each year, how many movies have revenue smaller than the budget?"
   ]
  },
  {
   "cell_type": "code",
   "execution_count": 66,
   "metadata": {},
   "outputs": [
    {
     "data": {
      "text/html": [
       "<div>\n",
       "<style>\n",
       "    .dataframe thead tr:only-child th {\n",
       "        text-align: right;\n",
       "    }\n",
       "\n",
       "    .dataframe thead th {\n",
       "        text-align: left;\n",
       "    }\n",
       "\n",
       "    .dataframe tbody tr th {\n",
       "        vertical-align: top;\n",
       "    }\n",
       "</style>\n",
       "<table border=\"1\" class=\"dataframe\">\n",
       "  <thead>\n",
       "    <tr style=\"text-align: right;\">\n",
       "      <th></th>\n",
       "      <th>year</th>\n",
       "      <th>number_movies</th>\n",
       "    </tr>\n",
       "  </thead>\n",
       "  <tbody>\n",
       "    <tr>\n",
       "      <th>0</th>\n",
       "      <td>1927</td>\n",
       "      <td>1</td>\n",
       "    </tr>\n",
       "    <tr>\n",
       "      <th>1</th>\n",
       "      <td>1947</td>\n",
       "      <td>1</td>\n",
       "    </tr>\n",
       "    <tr>\n",
       "      <th>2</th>\n",
       "      <td>1948</td>\n",
       "      <td>1</td>\n",
       "    </tr>\n",
       "    <tr>\n",
       "      <th>3</th>\n",
       "      <td>1954</td>\n",
       "      <td>1</td>\n",
       "    </tr>\n",
       "    <tr>\n",
       "      <th>4</th>\n",
       "      <td>1962</td>\n",
       "      <td>1</td>\n",
       "    </tr>\n",
       "  </tbody>\n",
       "</table>\n",
       "</div>"
      ],
      "text/plain": [
       "   year  number_movies\n",
       "0  1927              1\n",
       "1  1947              1\n",
       "2  1948              1\n",
       "3  1954              1\n",
       "4  1962              1"
      ]
     },
     "execution_count": 66,
     "metadata": {},
     "output_type": "execute_result"
    }
   ],
   "source": [
    "movies_sm = (movies_normalizzata[movies_normalizzata['gross_margin'] < 0]).groupby('year').size().to_frame().rename(\n",
    "                                                                                columns = {0 : 'number_movies'}).reset_index()\n",
    "movies_sm.head()"
   ]
  },
  {
   "cell_type": "markdown",
   "metadata": {},
   "source": [
    "13) Distribute the revenue according to the order of appearance in a movie. Assume that the i-th actor contributes twice as much as the (i+1)-th actor to the revenue."
   ]
  },
  {
   "cell_type": "code",
   "execution_count": 67,
   "metadata": {},
   "outputs": [
    {
     "data": {
      "text/html": [
       "<div>\n",
       "<style>\n",
       "    .dataframe thead tr:only-child th {\n",
       "        text-align: right;\n",
       "    }\n",
       "\n",
       "    .dataframe thead th {\n",
       "        text-align: left;\n",
       "    }\n",
       "\n",
       "    .dataframe tbody tr th {\n",
       "        vertical-align: top;\n",
       "    }\n",
       "</style>\n",
       "<table border=\"1\" class=\"dataframe\">\n",
       "  <thead>\n",
       "    <tr style=\"text-align: right;\">\n",
       "      <th></th>\n",
       "      <th>movie_id</th>\n",
       "      <th>revenue</th>\n",
       "      <th>title</th>\n",
       "      <th>name</th>\n",
       "      <th>order</th>\n",
       "    </tr>\n",
       "  </thead>\n",
       "  <tbody>\n",
       "    <tr>\n",
       "      <th>0</th>\n",
       "      <td>19995</td>\n",
       "      <td>2787965087</td>\n",
       "      <td>Avatar</td>\n",
       "      <td>Sam Worthington</td>\n",
       "      <td>0.0</td>\n",
       "    </tr>\n",
       "    <tr>\n",
       "      <th>1</th>\n",
       "      <td>19995</td>\n",
       "      <td>2787965087</td>\n",
       "      <td>Avatar</td>\n",
       "      <td>Zoe Saldana</td>\n",
       "      <td>1.0</td>\n",
       "    </tr>\n",
       "    <tr>\n",
       "      <th>2</th>\n",
       "      <td>19995</td>\n",
       "      <td>2787965087</td>\n",
       "      <td>Avatar</td>\n",
       "      <td>Sigourney Weaver</td>\n",
       "      <td>2.0</td>\n",
       "    </tr>\n",
       "    <tr>\n",
       "      <th>3</th>\n",
       "      <td>19995</td>\n",
       "      <td>2787965087</td>\n",
       "      <td>Avatar</td>\n",
       "      <td>Stephen Lang</td>\n",
       "      <td>3.0</td>\n",
       "    </tr>\n",
       "    <tr>\n",
       "      <th>4</th>\n",
       "      <td>19995</td>\n",
       "      <td>2787965087</td>\n",
       "      <td>Avatar</td>\n",
       "      <td>Michelle Rodriguez</td>\n",
       "      <td>4.0</td>\n",
       "    </tr>\n",
       "  </tbody>\n",
       "</table>\n",
       "</div>"
      ],
      "text/plain": [
       "   movie_id     revenue   title                name  order\n",
       "0     19995  2787965087  Avatar     Sam Worthington    0.0\n",
       "1     19995  2787965087  Avatar         Zoe Saldana    1.0\n",
       "2     19995  2787965087  Avatar    Sigourney Weaver    2.0\n",
       "3     19995  2787965087  Avatar        Stephen Lang    3.0\n",
       "4     19995  2787965087  Avatar  Michelle Rodriguez    4.0"
      ]
     },
     "execution_count": 67,
     "metadata": {},
     "output_type": "execute_result"
    }
   ],
   "source": [
    "import math\n",
    "cast = pd.merge(left = cast, right = movies_n[['id', 'revenue', 'title']], left_on = 'movie_id', right_on = 'id')\n",
    "cast_movies = cast[['movie_id', 'revenue', 'title', 'name', 'order']]\n",
    "# l'ordine non parte sempre dalla stessa cifra, infatti ad esempio il film \"Avatar\" parte da 0, mentre il film \"Time to Choose\"\n",
    "# parte da 1. Inoltre l'ordine di alcuni film è discontinuo, ad esempio \"El Mariachi\"\n",
    "cast_movies[cast_movies['title'] == 'Avatar'].head()"
   ]
  },
  {
   "cell_type": "code",
   "execution_count": 68,
   "metadata": {},
   "outputs": [
    {
     "data": {
      "text/html": [
       "<div>\n",
       "<style>\n",
       "    .dataframe thead tr:only-child th {\n",
       "        text-align: right;\n",
       "    }\n",
       "\n",
       "    .dataframe thead th {\n",
       "        text-align: left;\n",
       "    }\n",
       "\n",
       "    .dataframe tbody tr th {\n",
       "        vertical-align: top;\n",
       "    }\n",
       "</style>\n",
       "<table border=\"1\" class=\"dataframe\">\n",
       "  <thead>\n",
       "    <tr style=\"text-align: right;\">\n",
       "      <th></th>\n",
       "      <th>movie_id</th>\n",
       "      <th>revenue</th>\n",
       "      <th>title</th>\n",
       "      <th>name</th>\n",
       "      <th>order</th>\n",
       "    </tr>\n",
       "  </thead>\n",
       "  <tbody>\n",
       "    <tr>\n",
       "      <th>93248</th>\n",
       "      <td>370662</td>\n",
       "      <td>0</td>\n",
       "      <td>Time to Choose</td>\n",
       "      <td>Oscar Isaac</td>\n",
       "      <td>1.0</td>\n",
       "    </tr>\n",
       "    <tr>\n",
       "      <th>93249</th>\n",
       "      <td>370662</td>\n",
       "      <td>0</td>\n",
       "      <td>Time to Choose</td>\n",
       "      <td>Jane Goodall</td>\n",
       "      <td>2.0</td>\n",
       "    </tr>\n",
       "    <tr>\n",
       "      <th>93250</th>\n",
       "      <td>370662</td>\n",
       "      <td>0</td>\n",
       "      <td>Time to Choose</td>\n",
       "      <td>Jerry Brown</td>\n",
       "      <td>3.0</td>\n",
       "    </tr>\n",
       "    <tr>\n",
       "      <th>93251</th>\n",
       "      <td>370662</td>\n",
       "      <td>0</td>\n",
       "      <td>Time to Choose</td>\n",
       "      <td>Neal Barnard</td>\n",
       "      <td>4.0</td>\n",
       "    </tr>\n",
       "    <tr>\n",
       "      <th>93252</th>\n",
       "      <td>370662</td>\n",
       "      <td>0</td>\n",
       "      <td>Time to Choose</td>\n",
       "      <td>Michael Pollan</td>\n",
       "      <td>5.0</td>\n",
       "    </tr>\n",
       "  </tbody>\n",
       "</table>\n",
       "</div>"
      ],
      "text/plain": [
       "       movie_id  revenue           title            name  order\n",
       "93248    370662        0  Time to Choose     Oscar Isaac    1.0\n",
       "93249    370662        0  Time to Choose    Jane Goodall    2.0\n",
       "93250    370662        0  Time to Choose     Jerry Brown    3.0\n",
       "93251    370662        0  Time to Choose    Neal Barnard    4.0\n",
       "93252    370662        0  Time to Choose  Michael Pollan    5.0"
      ]
     },
     "execution_count": 68,
     "metadata": {},
     "output_type": "execute_result"
    }
   ],
   "source": [
    "cast_movies[cast_movies['title'] == 'Time to Choose']"
   ]
  },
  {
   "cell_type": "code",
   "execution_count": 69,
   "metadata": {},
   "outputs": [
    {
     "data": {
      "text/html": [
       "<div>\n",
       "<style>\n",
       "    .dataframe thead tr:only-child th {\n",
       "        text-align: right;\n",
       "    }\n",
       "\n",
       "    .dataframe thead th {\n",
       "        text-align: left;\n",
       "    }\n",
       "\n",
       "    .dataframe tbody tr th {\n",
       "        vertical-align: top;\n",
       "    }\n",
       "</style>\n",
       "<table border=\"1\" class=\"dataframe\">\n",
       "  <thead>\n",
       "    <tr style=\"text-align: right;\">\n",
       "      <th></th>\n",
       "      <th>movie_id</th>\n",
       "      <th>revenue</th>\n",
       "      <th>title</th>\n",
       "      <th>name</th>\n",
       "      <th>order</th>\n",
       "    </tr>\n",
       "  </thead>\n",
       "  <tbody>\n",
       "    <tr>\n",
       "      <th>106225</th>\n",
       "      <td>9367</td>\n",
       "      <td>2040920</td>\n",
       "      <td>El Mariachi</td>\n",
       "      <td>Carlos Gallardo</td>\n",
       "      <td>0.0</td>\n",
       "    </tr>\n",
       "    <tr>\n",
       "      <th>106226</th>\n",
       "      <td>9367</td>\n",
       "      <td>2040920</td>\n",
       "      <td>El Mariachi</td>\n",
       "      <td>Jaime de Hoyos</td>\n",
       "      <td>2.0</td>\n",
       "    </tr>\n",
       "    <tr>\n",
       "      <th>106227</th>\n",
       "      <td>9367</td>\n",
       "      <td>2040920</td>\n",
       "      <td>El Mariachi</td>\n",
       "      <td>Peter Marquardt</td>\n",
       "      <td>3.0</td>\n",
       "    </tr>\n",
       "    <tr>\n",
       "      <th>106228</th>\n",
       "      <td>9367</td>\n",
       "      <td>2040920</td>\n",
       "      <td>El Mariachi</td>\n",
       "      <td>Reinol Martinez</td>\n",
       "      <td>4.0</td>\n",
       "    </tr>\n",
       "    <tr>\n",
       "      <th>106229</th>\n",
       "      <td>9367</td>\n",
       "      <td>2040920</td>\n",
       "      <td>El Mariachi</td>\n",
       "      <td>Ramiro Gomez</td>\n",
       "      <td>5.0</td>\n",
       "    </tr>\n",
       "    <tr>\n",
       "      <th>106230</th>\n",
       "      <td>9367</td>\n",
       "      <td>2040920</td>\n",
       "      <td>El Mariachi</td>\n",
       "      <td>Consuelo Gómez</td>\n",
       "      <td>6.0</td>\n",
       "    </tr>\n",
       "    <tr>\n",
       "      <th>106231</th>\n",
       "      <td>9367</td>\n",
       "      <td>2040920</td>\n",
       "      <td>El Mariachi</td>\n",
       "      <td>Juan García</td>\n",
       "      <td>7.0</td>\n",
       "    </tr>\n",
       "  </tbody>\n",
       "</table>\n",
       "</div>"
      ],
      "text/plain": [
       "        movie_id  revenue        title             name  order\n",
       "106225      9367  2040920  El Mariachi  Carlos Gallardo    0.0\n",
       "106226      9367  2040920  El Mariachi   Jaime de Hoyos    2.0\n",
       "106227      9367  2040920  El Mariachi  Peter Marquardt    3.0\n",
       "106228      9367  2040920  El Mariachi  Reinol Martinez    4.0\n",
       "106229      9367  2040920  El Mariachi     Ramiro Gomez    5.0\n",
       "106230      9367  2040920  El Mariachi   Consuelo Gómez    6.0\n",
       "106231      9367  2040920  El Mariachi      Juan García    7.0"
      ]
     },
     "execution_count": 69,
     "metadata": {},
     "output_type": "execute_result"
    }
   ],
   "source": [
    "cast_movies[cast_movies['title'] == 'El Mariachi']"
   ]
  },
  {
   "cell_type": "code",
   "execution_count": 70,
   "metadata": {},
   "outputs": [
    {
     "data": {
      "text/html": [
       "<div>\n",
       "<style>\n",
       "    .dataframe thead tr:only-child th {\n",
       "        text-align: right;\n",
       "    }\n",
       "\n",
       "    .dataframe thead th {\n",
       "        text-align: left;\n",
       "    }\n",
       "\n",
       "    .dataframe tbody tr th {\n",
       "        vertical-align: top;\n",
       "    }\n",
       "</style>\n",
       "<table border=\"1\" class=\"dataframe\">\n",
       "  <thead>\n",
       "    <tr style=\"text-align: right;\">\n",
       "      <th></th>\n",
       "      <th>n_order</th>\n",
       "      <th>movie_id</th>\n",
       "      <th>revenue</th>\n",
       "      <th>title</th>\n",
       "      <th>name</th>\n",
       "      <th>order</th>\n",
       "    </tr>\n",
       "  </thead>\n",
       "  <tbody>\n",
       "    <tr>\n",
       "      <th>106225</th>\n",
       "      <td>0</td>\n",
       "      <td>9367</td>\n",
       "      <td>2040920</td>\n",
       "      <td>El Mariachi</td>\n",
       "      <td>Carlos Gallardo</td>\n",
       "      <td>0.0</td>\n",
       "    </tr>\n",
       "    <tr>\n",
       "      <th>106226</th>\n",
       "      <td>1</td>\n",
       "      <td>9367</td>\n",
       "      <td>2040920</td>\n",
       "      <td>El Mariachi</td>\n",
       "      <td>Jaime de Hoyos</td>\n",
       "      <td>2.0</td>\n",
       "    </tr>\n",
       "    <tr>\n",
       "      <th>106227</th>\n",
       "      <td>2</td>\n",
       "      <td>9367</td>\n",
       "      <td>2040920</td>\n",
       "      <td>El Mariachi</td>\n",
       "      <td>Peter Marquardt</td>\n",
       "      <td>3.0</td>\n",
       "    </tr>\n",
       "    <tr>\n",
       "      <th>106228</th>\n",
       "      <td>3</td>\n",
       "      <td>9367</td>\n",
       "      <td>2040920</td>\n",
       "      <td>El Mariachi</td>\n",
       "      <td>Reinol Martinez</td>\n",
       "      <td>4.0</td>\n",
       "    </tr>\n",
       "    <tr>\n",
       "      <th>106229</th>\n",
       "      <td>4</td>\n",
       "      <td>9367</td>\n",
       "      <td>2040920</td>\n",
       "      <td>El Mariachi</td>\n",
       "      <td>Ramiro Gomez</td>\n",
       "      <td>5.0</td>\n",
       "    </tr>\n",
       "    <tr>\n",
       "      <th>106230</th>\n",
       "      <td>5</td>\n",
       "      <td>9367</td>\n",
       "      <td>2040920</td>\n",
       "      <td>El Mariachi</td>\n",
       "      <td>Consuelo Gómez</td>\n",
       "      <td>6.0</td>\n",
       "    </tr>\n",
       "    <tr>\n",
       "      <th>106231</th>\n",
       "      <td>6</td>\n",
       "      <td>9367</td>\n",
       "      <td>2040920</td>\n",
       "      <td>El Mariachi</td>\n",
       "      <td>Juan García</td>\n",
       "      <td>7.0</td>\n",
       "    </tr>\n",
       "  </tbody>\n",
       "</table>\n",
       "</div>"
      ],
      "text/plain": [
       "        n_order  movie_id  revenue        title             name  order\n",
       "106225        0      9367  2040920  El Mariachi  Carlos Gallardo    0.0\n",
       "106226        1      9367  2040920  El Mariachi   Jaime de Hoyos    2.0\n",
       "106227        2      9367  2040920  El Mariachi  Peter Marquardt    3.0\n",
       "106228        3      9367  2040920  El Mariachi  Reinol Martinez    4.0\n",
       "106229        4      9367  2040920  El Mariachi     Ramiro Gomez    5.0\n",
       "106230        5      9367  2040920  El Mariachi   Consuelo Gómez    6.0\n",
       "106231        6      9367  2040920  El Mariachi      Juan García    7.0"
      ]
     },
     "execution_count": 70,
     "metadata": {},
     "output_type": "execute_result"
    }
   ],
   "source": [
    "# l'ordine verrà quindi fatto partire da 0 e verrà implementato in modo continuo. \n",
    "# per spiegare i passaggi verrà preso come esempio il film \"El Mariachi\"\n",
    "def ordina(movie_id):\n",
    "    temp = cast_movies[cast_movies['movie_id'] == movie_id]\n",
    "    temp = temp.reset_index().drop('index', axis = 1)\n",
    "    return temp\n",
    "temp = pd.Series(cast_movies['movie_id'].unique()).apply(ordina)\n",
    "cast_movies = pd.concat(temp.values.tolist())\n",
    "cast_movies = cast_movies.reset_index().rename(columns = {'index' : 'n_order'})\n",
    "cast_movies[cast_movies['title'] == 'El Mariachi']"
   ]
  },
  {
   "cell_type": "code",
   "execution_count": 71,
   "metadata": {},
   "outputs": [
    {
     "data": {
      "text/html": [
       "<div>\n",
       "<style>\n",
       "    .dataframe thead tr:only-child th {\n",
       "        text-align: right;\n",
       "    }\n",
       "\n",
       "    .dataframe thead th {\n",
       "        text-align: left;\n",
       "    }\n",
       "\n",
       "    .dataframe tbody tr th {\n",
       "        vertical-align: top;\n",
       "    }\n",
       "</style>\n",
       "<table border=\"1\" class=\"dataframe\">\n",
       "  <thead>\n",
       "    <tr style=\"text-align: right;\">\n",
       "      <th></th>\n",
       "      <th>order</th>\n",
       "      <th>movie_id</th>\n",
       "      <th>revenue</th>\n",
       "      <th>title</th>\n",
       "      <th>name</th>\n",
       "      <th>number_actor</th>\n",
       "      <th>exp</th>\n",
       "      <th>part</th>\n",
       "    </tr>\n",
       "  </thead>\n",
       "  <tbody>\n",
       "    <tr>\n",
       "      <th>106225</th>\n",
       "      <td>0</td>\n",
       "      <td>9367</td>\n",
       "      <td>2040920</td>\n",
       "      <td>El Mariachi</td>\n",
       "      <td>Carlos Gallardo</td>\n",
       "      <td>7</td>\n",
       "      <td>127.0</td>\n",
       "      <td>16070.23622</td>\n",
       "    </tr>\n",
       "    <tr>\n",
       "      <th>106226</th>\n",
       "      <td>1</td>\n",
       "      <td>9367</td>\n",
       "      <td>2040920</td>\n",
       "      <td>El Mariachi</td>\n",
       "      <td>Jaime de Hoyos</td>\n",
       "      <td>7</td>\n",
       "      <td>127.0</td>\n",
       "      <td>16070.23622</td>\n",
       "    </tr>\n",
       "    <tr>\n",
       "      <th>106227</th>\n",
       "      <td>2</td>\n",
       "      <td>9367</td>\n",
       "      <td>2040920</td>\n",
       "      <td>El Mariachi</td>\n",
       "      <td>Peter Marquardt</td>\n",
       "      <td>7</td>\n",
       "      <td>127.0</td>\n",
       "      <td>16070.23622</td>\n",
       "    </tr>\n",
       "    <tr>\n",
       "      <th>106228</th>\n",
       "      <td>3</td>\n",
       "      <td>9367</td>\n",
       "      <td>2040920</td>\n",
       "      <td>El Mariachi</td>\n",
       "      <td>Reinol Martinez</td>\n",
       "      <td>7</td>\n",
       "      <td>127.0</td>\n",
       "      <td>16070.23622</td>\n",
       "    </tr>\n",
       "    <tr>\n",
       "      <th>106229</th>\n",
       "      <td>4</td>\n",
       "      <td>9367</td>\n",
       "      <td>2040920</td>\n",
       "      <td>El Mariachi</td>\n",
       "      <td>Ramiro Gomez</td>\n",
       "      <td>7</td>\n",
       "      <td>127.0</td>\n",
       "      <td>16070.23622</td>\n",
       "    </tr>\n",
       "    <tr>\n",
       "      <th>106230</th>\n",
       "      <td>5</td>\n",
       "      <td>9367</td>\n",
       "      <td>2040920</td>\n",
       "      <td>El Mariachi</td>\n",
       "      <td>Consuelo Gómez</td>\n",
       "      <td>7</td>\n",
       "      <td>127.0</td>\n",
       "      <td>16070.23622</td>\n",
       "    </tr>\n",
       "    <tr>\n",
       "      <th>106231</th>\n",
       "      <td>6</td>\n",
       "      <td>9367</td>\n",
       "      <td>2040920</td>\n",
       "      <td>El Mariachi</td>\n",
       "      <td>Juan García</td>\n",
       "      <td>7</td>\n",
       "      <td>127.0</td>\n",
       "      <td>16070.23622</td>\n",
       "    </tr>\n",
       "  </tbody>\n",
       "</table>\n",
       "</div>"
      ],
      "text/plain": [
       "        order  movie_id  revenue        title             name  number_actor  \\\n",
       "106225      0      9367  2040920  El Mariachi  Carlos Gallardo             7   \n",
       "106226      1      9367  2040920  El Mariachi   Jaime de Hoyos             7   \n",
       "106227      2      9367  2040920  El Mariachi  Peter Marquardt             7   \n",
       "106228      3      9367  2040920  El Mariachi  Reinol Martinez             7   \n",
       "106229      4      9367  2040920  El Mariachi     Ramiro Gomez             7   \n",
       "106230      5      9367  2040920  El Mariachi   Consuelo Gómez             7   \n",
       "106231      6      9367  2040920  El Mariachi      Juan García             7   \n",
       "\n",
       "          exp         part  \n",
       "106225  127.0  16070.23622  \n",
       "106226  127.0  16070.23622  \n",
       "106227  127.0  16070.23622  \n",
       "106228  127.0  16070.23622  \n",
       "106229  127.0  16070.23622  \n",
       "106230  127.0  16070.23622  \n",
       "106231  127.0  16070.23622  "
      ]
     },
     "execution_count": 71,
     "metadata": {},
     "output_type": "execute_result"
    }
   ],
   "source": [
    "cast_movies = cast_movies.drop(['order'], axis = 1).rename(columns = {'n_order' : 'order'})\n",
    "# viene calcolato il numero totale di attori per cast\n",
    "number_actor = cast_movies.groupby('movie_id').size().to_frame().reset_index().rename(columns = {0: 'number_actor'})\n",
    "cast_movies = pd.merge(left = cast_movies, right = number_actor, on = 'movie_id')\n",
    "# con la funzione exp viene calcolata la potenza x-esima di 2, dove x rappresenta il numero totale di attori per cast\n",
    "def exp(x):\n",
    "    return math.pow(2, x)\n",
    "cast_movies['exp'] = cast_movies['number_actor'].apply(exp)\n",
    "# per trovare la parte di revenue minore per cast, il revenue deve essere diviso per (exp - 1). Questo deriva dalla somma\n",
    "# parziale x-esima - 1 della serie geometrica di ragione 2: \n",
    "# x + 2*x + (2^2)*x + ... + [2^(x-esima - 1)] = {sum_j(0)(x-esima - 1)[2^j]}*x = [(2^x-esima) - 1] * x\n",
    "cast_movies['exp'] = cast_movies['exp'] - 1\n",
    "cast_movies['part'] = cast_movies['revenue'] / cast_movies['exp']\n",
    "cast_movies[cast_movies['title'] == 'El Mariachi']"
   ]
  },
  {
   "cell_type": "code",
   "execution_count": 72,
   "metadata": {},
   "outputs": [
    {
     "data": {
      "text/html": [
       "<div>\n",
       "<style>\n",
       "    .dataframe thead tr:only-child th {\n",
       "        text-align: right;\n",
       "    }\n",
       "\n",
       "    .dataframe thead th {\n",
       "        text-align: left;\n",
       "    }\n",
       "\n",
       "    .dataframe tbody tr th {\n",
       "        vertical-align: top;\n",
       "    }\n",
       "</style>\n",
       "<table border=\"1\" class=\"dataframe\">\n",
       "  <thead>\n",
       "    <tr style=\"text-align: right;\">\n",
       "      <th></th>\n",
       "      <th>movie_id</th>\n",
       "      <th>title</th>\n",
       "      <th>revenue</th>\n",
       "      <th>name</th>\n",
       "      <th>order</th>\n",
       "      <th>revenue_part</th>\n",
       "    </tr>\n",
       "  </thead>\n",
       "  <tbody>\n",
       "    <tr>\n",
       "      <th>106225</th>\n",
       "      <td>9367</td>\n",
       "      <td>El Mariachi</td>\n",
       "      <td>2040920</td>\n",
       "      <td>Carlos Gallardo</td>\n",
       "      <td>0</td>\n",
       "      <td>1.028495e+06</td>\n",
       "    </tr>\n",
       "    <tr>\n",
       "      <th>106226</th>\n",
       "      <td>9367</td>\n",
       "      <td>El Mariachi</td>\n",
       "      <td>2040920</td>\n",
       "      <td>Jaime de Hoyos</td>\n",
       "      <td>1</td>\n",
       "      <td>5.142476e+05</td>\n",
       "    </tr>\n",
       "    <tr>\n",
       "      <th>106227</th>\n",
       "      <td>9367</td>\n",
       "      <td>El Mariachi</td>\n",
       "      <td>2040920</td>\n",
       "      <td>Peter Marquardt</td>\n",
       "      <td>2</td>\n",
       "      <td>2.571238e+05</td>\n",
       "    </tr>\n",
       "    <tr>\n",
       "      <th>106228</th>\n",
       "      <td>9367</td>\n",
       "      <td>El Mariachi</td>\n",
       "      <td>2040920</td>\n",
       "      <td>Reinol Martinez</td>\n",
       "      <td>3</td>\n",
       "      <td>1.285619e+05</td>\n",
       "    </tr>\n",
       "    <tr>\n",
       "      <th>106229</th>\n",
       "      <td>9367</td>\n",
       "      <td>El Mariachi</td>\n",
       "      <td>2040920</td>\n",
       "      <td>Ramiro Gomez</td>\n",
       "      <td>4</td>\n",
       "      <td>6.428094e+04</td>\n",
       "    </tr>\n",
       "    <tr>\n",
       "      <th>106230</th>\n",
       "      <td>9367</td>\n",
       "      <td>El Mariachi</td>\n",
       "      <td>2040920</td>\n",
       "      <td>Consuelo Gómez</td>\n",
       "      <td>5</td>\n",
       "      <td>3.214047e+04</td>\n",
       "    </tr>\n",
       "    <tr>\n",
       "      <th>106231</th>\n",
       "      <td>9367</td>\n",
       "      <td>El Mariachi</td>\n",
       "      <td>2040920</td>\n",
       "      <td>Juan García</td>\n",
       "      <td>6</td>\n",
       "      <td>1.607024e+04</td>\n",
       "    </tr>\n",
       "  </tbody>\n",
       "</table>\n",
       "</div>"
      ],
      "text/plain": [
       "        movie_id        title  revenue             name  order  revenue_part\n",
       "106225      9367  El Mariachi  2040920  Carlos Gallardo      0  1.028495e+06\n",
       "106226      9367  El Mariachi  2040920   Jaime de Hoyos      1  5.142476e+05\n",
       "106227      9367  El Mariachi  2040920  Peter Marquardt      2  2.571238e+05\n",
       "106228      9367  El Mariachi  2040920  Reinol Martinez      3  1.285619e+05\n",
       "106229      9367  El Mariachi  2040920     Ramiro Gomez      4  6.428094e+04\n",
       "106230      9367  El Mariachi  2040920   Consuelo Gómez      5  3.214047e+04\n",
       "106231      9367  El Mariachi  2040920      Juan García      6  1.607024e+04"
      ]
     },
     "execution_count": 72,
     "metadata": {},
     "output_type": "execute_result"
    }
   ],
   "source": [
    "# viene calcolato l'ordine inverso per ogni cast, in modo che l'ordine minimo rappresenti in c_order l'ordine massimo\n",
    "cast_movies['c_order'] = cast_movies['number_actor'] - cast_movies['order'] - 1\n",
    "cast_movies['fattore'] = cast_movies['c_order'].apply(exp)\n",
    "cast_movies['revenue_part'] = cast_movies['fattore'] * cast_movies['part']\n",
    "cast_movies = cast_movies[['movie_id', 'title', 'revenue', 'name', 'order','revenue_part']]\n",
    "cast_movies[cast_movies['title'] == 'El Mariachi']"
   ]
  },
  {
   "cell_type": "code",
   "execution_count": 73,
   "metadata": {},
   "outputs": [
    {
     "data": {
      "text/html": [
       "<div>\n",
       "<style>\n",
       "    .dataframe thead tr:only-child th {\n",
       "        text-align: right;\n",
       "    }\n",
       "\n",
       "    .dataframe thead th {\n",
       "        text-align: left;\n",
       "    }\n",
       "\n",
       "    .dataframe tbody tr th {\n",
       "        vertical-align: top;\n",
       "    }\n",
       "</style>\n",
       "<table border=\"1\" class=\"dataframe\">\n",
       "  <thead>\n",
       "    <tr style=\"text-align: right;\">\n",
       "      <th></th>\n",
       "      <th>movie_id</th>\n",
       "      <th>title</th>\n",
       "      <th>revenue</th>\n",
       "      <th>name</th>\n",
       "      <th>order</th>\n",
       "      <th>revenue_part</th>\n",
       "      <th>revenue_sum</th>\n",
       "    </tr>\n",
       "  </thead>\n",
       "  <tbody>\n",
       "    <tr>\n",
       "      <th>106225</th>\n",
       "      <td>9367</td>\n",
       "      <td>El Mariachi</td>\n",
       "      <td>2040920</td>\n",
       "      <td>Carlos Gallardo</td>\n",
       "      <td>0</td>\n",
       "      <td>1028495</td>\n",
       "      <td>2040920</td>\n",
       "    </tr>\n",
       "    <tr>\n",
       "      <th>106226</th>\n",
       "      <td>9367</td>\n",
       "      <td>El Mariachi</td>\n",
       "      <td>2040920</td>\n",
       "      <td>Jaime de Hoyos</td>\n",
       "      <td>1</td>\n",
       "      <td>514247</td>\n",
       "      <td>2040920</td>\n",
       "    </tr>\n",
       "    <tr>\n",
       "      <th>106227</th>\n",
       "      <td>9367</td>\n",
       "      <td>El Mariachi</td>\n",
       "      <td>2040920</td>\n",
       "      <td>Peter Marquardt</td>\n",
       "      <td>2</td>\n",
       "      <td>257123</td>\n",
       "      <td>2040920</td>\n",
       "    </tr>\n",
       "    <tr>\n",
       "      <th>106228</th>\n",
       "      <td>9367</td>\n",
       "      <td>El Mariachi</td>\n",
       "      <td>2040920</td>\n",
       "      <td>Reinol Martinez</td>\n",
       "      <td>3</td>\n",
       "      <td>128561</td>\n",
       "      <td>2040920</td>\n",
       "    </tr>\n",
       "    <tr>\n",
       "      <th>106229</th>\n",
       "      <td>9367</td>\n",
       "      <td>El Mariachi</td>\n",
       "      <td>2040920</td>\n",
       "      <td>Ramiro Gomez</td>\n",
       "      <td>4</td>\n",
       "      <td>64280</td>\n",
       "      <td>2040920</td>\n",
       "    </tr>\n",
       "    <tr>\n",
       "      <th>106230</th>\n",
       "      <td>9367</td>\n",
       "      <td>El Mariachi</td>\n",
       "      <td>2040920</td>\n",
       "      <td>Consuelo Gómez</td>\n",
       "      <td>5</td>\n",
       "      <td>32140</td>\n",
       "      <td>2040920</td>\n",
       "    </tr>\n",
       "    <tr>\n",
       "      <th>106231</th>\n",
       "      <td>9367</td>\n",
       "      <td>El Mariachi</td>\n",
       "      <td>2040920</td>\n",
       "      <td>Juan García</td>\n",
       "      <td>6</td>\n",
       "      <td>16070</td>\n",
       "      <td>2040920</td>\n",
       "    </tr>\n",
       "  </tbody>\n",
       "</table>\n",
       "</div>"
      ],
      "text/plain": [
       "        movie_id        title  revenue             name  order  revenue_part  \\\n",
       "106225      9367  El Mariachi  2040920  Carlos Gallardo      0       1028495   \n",
       "106226      9367  El Mariachi  2040920   Jaime de Hoyos      1        514247   \n",
       "106227      9367  El Mariachi  2040920  Peter Marquardt      2        257123   \n",
       "106228      9367  El Mariachi  2040920  Reinol Martinez      3        128561   \n",
       "106229      9367  El Mariachi  2040920     Ramiro Gomez      4         64280   \n",
       "106230      9367  El Mariachi  2040920   Consuelo Gómez      5         32140   \n",
       "106231      9367  El Mariachi  2040920      Juan García      6         16070   \n",
       "\n",
       "        revenue_sum  \n",
       "106225      2040920  \n",
       "106226      2040920  \n",
       "106227      2040920  \n",
       "106228      2040920  \n",
       "106229      2040920  \n",
       "106230      2040920  \n",
       "106231      2040920  "
      ]
     },
     "execution_count": 73,
     "metadata": {},
     "output_type": "execute_result"
    }
   ],
   "source": [
    "# per verificare la correttezza dei calcoli viene eseguita la somma delle revenue_part per ciascun cast. \n",
    "# inoltre si rendono revenue e revenue part in forma esplicita\n",
    "somma = cast_movies.groupby('movie_id').sum()['revenue_part'].reset_index().rename(columns = {'revenue_part' : 'revenue_sum'})\n",
    "cast_movies = pd.merge(left = cast_movies, right = somma, on = 'movie_id')\n",
    "cast_movies['revenue_part'] = cast_movies['revenue_part'].apply(int)\n",
    "cast_movies['revenue_sum'] = cast_movies['revenue_sum'].apply(int)\n",
    "cast_movies[cast_movies['title'] == 'El Mariachi']"
   ]
  },
  {
   "cell_type": "code",
   "execution_count": 74,
   "metadata": {},
   "outputs": [
    {
     "data": {
      "text/html": [
       "<div>\n",
       "<style>\n",
       "    .dataframe thead tr:only-child th {\n",
       "        text-align: right;\n",
       "    }\n",
       "\n",
       "    .dataframe thead th {\n",
       "        text-align: left;\n",
       "    }\n",
       "\n",
       "    .dataframe tbody tr th {\n",
       "        vertical-align: top;\n",
       "    }\n",
       "</style>\n",
       "<table border=\"1\" class=\"dataframe\">\n",
       "  <thead>\n",
       "    <tr style=\"text-align: right;\">\n",
       "      <th></th>\n",
       "      <th>sum</th>\n",
       "    </tr>\n",
       "  </thead>\n",
       "  <tbody>\n",
       "  </tbody>\n",
       "</table>\n",
       "</div>"
      ],
      "text/plain": [
       "Empty DataFrame\n",
       "Columns: [sum]\n",
       "Index: []"
      ]
     },
     "execution_count": 74,
     "metadata": {},
     "output_type": "execute_result"
    }
   ],
   "source": [
    "# inoltre per dimostrare che non ci sia nessun errore nel calcolo (tranne l'approssimazione di 1) viene calcolato il test\n",
    "test = pd.DataFrame()\n",
    "test['sum'] = cast_movies['revenue'] - cast_movies['revenue_sum']\n",
    "test[(test['sum'] < -1) | (test['sum'] > 1)]"
   ]
  },
  {
   "cell_type": "markdown",
   "metadata": {},
   "source": [
    "14) For each actor find the total revenue attributed to him/her."
   ]
  },
  {
   "cell_type": "code",
   "execution_count": 75,
   "metadata": {},
   "outputs": [
    {
     "data": {
      "text/html": [
       "<div>\n",
       "<style>\n",
       "    .dataframe thead tr:only-child th {\n",
       "        text-align: right;\n",
       "    }\n",
       "\n",
       "    .dataframe thead th {\n",
       "        text-align: left;\n",
       "    }\n",
       "\n",
       "    .dataframe tbody tr th {\n",
       "        vertical-align: top;\n",
       "    }\n",
       "</style>\n",
       "<table border=\"1\" class=\"dataframe\">\n",
       "  <thead>\n",
       "    <tr style=\"text-align: right;\">\n",
       "      <th></th>\n",
       "      <th>name</th>\n",
       "      <th>total_revenue</th>\n",
       "    </tr>\n",
       "  </thead>\n",
       "  <tbody>\n",
       "    <tr>\n",
       "      <th>0</th>\n",
       "      <td>Jorge de los Reyes</td>\n",
       "      <td>0</td>\n",
       "    </tr>\n",
       "    <tr>\n",
       "      <th>1</th>\n",
       "      <td>Larry Mullen Jr.</td>\n",
       "      <td>1515389</td>\n",
       "    </tr>\n",
       "    <tr>\n",
       "      <th>2</th>\n",
       "      <td>\"Weird Al\" Yankovic</td>\n",
       "      <td>2503</td>\n",
       "    </tr>\n",
       "    <tr>\n",
       "      <th>3</th>\n",
       "      <td>'Snub' Pollard</td>\n",
       "      <td>219</td>\n",
       "    </tr>\n",
       "    <tr>\n",
       "      <th>4</th>\n",
       "      <td>'Wild Bill' Laczko</td>\n",
       "      <td>4</td>\n",
       "    </tr>\n",
       "  </tbody>\n",
       "</table>\n",
       "</div>"
      ],
      "text/plain": [
       "                    name  total_revenue\n",
       "0    Jorge de los Reyes               0\n",
       "1       Larry Mullen Jr.        1515389\n",
       "2    \"Weird Al\" Yankovic           2503\n",
       "3         'Snub' Pollard            219\n",
       "4     'Wild Bill' Laczko              4"
      ]
     },
     "execution_count": 75,
     "metadata": {},
     "output_type": "execute_result"
    }
   ],
   "source": [
    "actor_revenue = cast_movies.groupby('name').sum()['revenue_part'].to_frame().rename(columns = {'revenue_part' :\n",
    "                                                                                              'total_revenue'}).reset_index()\n",
    "actor_revenue.head()"
   ]
  },
  {
   "cell_type": "markdown",
   "metadata": {},
   "source": [
    "15) Find the actor that is responsible for the most overall revenue."
   ]
  },
  {
   "cell_type": "code",
   "execution_count": 76,
   "metadata": {},
   "outputs": [
    {
     "data": {
      "text/html": [
       "<div>\n",
       "<style>\n",
       "    .dataframe thead tr:only-child th {\n",
       "        text-align: right;\n",
       "    }\n",
       "\n",
       "    .dataframe thead th {\n",
       "        text-align: left;\n",
       "    }\n",
       "\n",
       "    .dataframe tbody tr th {\n",
       "        vertical-align: top;\n",
       "    }\n",
       "</style>\n",
       "<table border=\"1\" class=\"dataframe\">\n",
       "  <thead>\n",
       "    <tr style=\"text-align: right;\">\n",
       "      <th></th>\n",
       "      <th>name</th>\n",
       "      <th>total_revenue</th>\n",
       "    </tr>\n",
       "  </thead>\n",
       "  <tbody>\n",
       "    <tr>\n",
       "      <th>50772</th>\n",
       "      <td>Tom Cruise</td>\n",
       "      <td>3976119747</td>\n",
       "    </tr>\n",
       "  </tbody>\n",
       "</table>\n",
       "</div>"
      ],
      "text/plain": [
       "             name  total_revenue\n",
       "50772  Tom Cruise     3976119747"
      ]
     },
     "execution_count": 76,
     "metadata": {},
     "output_type": "execute_result"
    }
   ],
   "source": [
    "actor_revenue[actor_revenue['total_revenue'] == np.max(actor_revenue['total_revenue'])]"
   ]
  }
 ],
 "metadata": {
  "kernelspec": {
   "display_name": "Python 3",
   "language": "python",
   "name": "python3"
  },
  "language_info": {
   "codemirror_mode": {
    "name": "ipython",
    "version": 3
   },
   "file_extension": ".py",
   "mimetype": "text/x-python",
   "name": "python",
   "nbconvert_exporter": "python",
   "pygments_lexer": "ipython3",
   "version": "3.6.2"
  }
 },
 "nbformat": 4,
 "nbformat_minor": 2
}
