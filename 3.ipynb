{
 "cells": [
  {
   "cell_type": "code",
   "execution_count": 1,
   "metadata": {
    "collapsed": true
   },
   "outputs": [],
   "source": [
    "import pandas as pd\n",
    "import numpy as np"
   ]
  },
  {
   "cell_type": "code",
   "execution_count": 2,
   "metadata": {
    "collapsed": true
   },
   "outputs": [],
   "source": [
    "movie = pd.read_csv('tmdb_5000_movies.csv')\n",
    "credit = pd.read_csv('tmdb_5000_credits.csv')"
   ]
  },
  {
   "cell_type": "markdown",
   "metadata": {},
   "source": [
    "For each movie, compute the number of cast members"
   ]
  },
  {
   "cell_type": "code",
   "execution_count": 107,
   "metadata": {
    "collapsed": true
   },
   "outputs": [],
   "source": [
    "cast = pd.DataFrame()\n",
    "cast_ = pd.DataFrame()\n",
    "for index in credit.index:\n",
    "    json = credit['cast'][index]\n",
    "    movie_id = credit['movie_id'][index]\n",
    "    title = credit['title'][index]\n",
    "    cast_ = pd.read_json(json)\n",
    "    cast_['movie_id'] = movie_id\n",
    "    cast_['title'] = title\n",
    "    concat =[cast, cast_]\n",
    "    cast = pd.concat(concat)\n",
    "number = cast.groupby(['movie_id', 'title']).count()['cast_id']"
   ]
  },
  {
   "cell_type": "markdown",
   "metadata": {},
   "source": [
    "How many movies do not have a homepage?"
   ]
  },
  {
   "cell_type": "code",
   "execution_count": 3,
   "metadata": {},
   "outputs": [
    {
     "data": {
      "text/plain": [
       "3091"
      ]
     },
     "execution_count": 3,
     "metadata": {},
     "output_type": "execute_result"
    }
   ],
   "source": [
    "len(movie['homepage']) - len(movie['homepage'].dropna())"
   ]
  },
  {
   "cell_type": "markdown",
   "metadata": {},
   "source": [
    "For each year, how many movies do not have a homepage?"
   ]
  },
  {
   "cell_type": "code",
   "execution_count": 4,
   "metadata": {},
   "outputs": [
    {
     "name": "stderr",
     "output_type": "stream",
     "text": [
      "C:\\Users\\aless\\Anaconda3\\lib\\site-packages\\ipykernel_launcher.py:2: FutureWarning: currently extract(expand=None) means expand=False (return Index/Series/DataFrame) but in a future version of pandas this will be changed to expand=True (return DataFrame)\n",
      "  \n",
      "C:\\Users\\aless\\Anaconda3\\lib\\site-packages\\ipykernel_launcher.py:2: SettingWithCopyWarning: \n",
      "A value is trying to be set on a copy of a slice from a DataFrame.\n",
      "Try using .loc[row_indexer,col_indexer] = value instead\n",
      "\n",
      "See the caveats in the documentation: http://pandas.pydata.org/pandas-docs/stable/indexing.html#indexing-view-versus-copy\n",
      "  \n"
     ]
    }
   ],
   "source": [
    "moviey = movie[movie['homepage'].isnull()]\n",
    "moviey['year'] = movie['release_date'].str.extract('(.*)-(.*)-(.*)')[0]\n",
    "moviey = moviey.groupby('year').size()"
   ]
  },
  {
   "cell_type": "markdown",
   "metadata": {},
   "source": [
    "Extract the domain of each homepage."
   ]
  },
  {
   "cell_type": "code",
   "execution_count": 283,
   "metadata": {
    "scrolled": true
   },
   "outputs": [
    {
     "name": "stderr",
     "output_type": "stream",
     "text": [
      "C:\\Users\\aless\\Anaconda3\\lib\\site-packages\\ipykernel_launcher.py:11: SettingWithCopyWarning: \n",
      "A value is trying to be set on a copy of a slice from a DataFrame\n",
      "\n",
      "See the caveats in the documentation: http://pandas.pydata.org/pandas-docs/stable/indexing.html#indexing-view-versus-copy\n",
      "  # This is added back by InteractiveShellApp.init_path()\n",
      "C:\\Users\\aless\\Anaconda3\\lib\\site-packages\\ipykernel_launcher.py:14: SettingWithCopyWarning: \n",
      "A value is trying to be set on a copy of a slice from a DataFrame\n",
      "\n",
      "See the caveats in the documentation: http://pandas.pydata.org/pandas-docs/stable/indexing.html#indexing-view-versus-copy\n",
      "  \n",
      "C:\\Users\\aless\\Anaconda3\\lib\\site-packages\\ipykernel_launcher.py:25: SettingWithCopyWarning: \n",
      "A value is trying to be set on a copy of a slice from a DataFrame\n",
      "\n",
      "See the caveats in the documentation: http://pandas.pydata.org/pandas-docs/stable/indexing.html#indexing-view-versus-copy\n",
      "C:\\Users\\aless\\Anaconda3\\lib\\site-packages\\pandas\\core\\indexing.py:179: SettingWithCopyWarning: \n",
      "A value is trying to be set on a copy of a slice from a DataFrame\n",
      "\n",
      "See the caveats in the documentation: http://pandas.pydata.org/pandas-docs/stable/indexing.html#indexing-view-versus-copy\n",
      "  self._setitem_with_indexer(indexer, value)\n"
     ]
    }
   ],
   "source": [
    "import tldextract\n",
    "movie_d = movie['homepage'].dropna()\n",
    "movie_d = movie_d.to_frame()\n",
    "movie_d['indice'] = -1\n",
    "salva_doppi = pd.DataFrame()\n",
    "salva_doppi['index'] = 0\n",
    "conta = 0\n",
    "for riga in movie_d.index:\n",
    "    url = movie_d['homepage'][riga]\n",
    "    url = url.split()\n",
    "    if(len(url) != 1):\n",
    "        movie_d['indice'][riga] = riga\n",
    "        salva_doppi = salva_doppi.append(url)\n",
    "        for split in range(conta,len(url)):\n",
    "            salva_doppi['index'][split] = riga\n",
    "        conta = conta + len(url)\n",
    "salva_doppi = salva_doppi.rename(columns = {0: 'homepage'})\n",
    "movie_d = movie_d.drop(movie_d[movie_d['indice'] != -1].index)\n",
    "movie_d = movie_d.reset_index()\n",
    "movie_d = movie_d.drop('indice', axis = 1)\n",
    "movie_d = movie_d.append(salva_doppi)\n",
    "movie_d = movie_d.reset_index().drop('level_0', axis = 1)\n",
    "movie_d['domain'] = 0\n",
    "for riga in movie_d.index:\n",
    "    url = movie_d['homepage'][riga]\n",
    "    movie_d['domain'][riga] = tldextract.extract(url).suffix\n",
    "movie_t = movie['original_title']\n",
    "movie_t = movie_t.to_frame()\n",
    "movie_t = movie_t.reset_index()\n",
    "movie_d = pd.merge(left = movie_d, right = movie_t, on = 'index')\n",
    "movie_d = movie_d.set_index('index')"
   ]
  },
  {
   "cell_type": "markdown",
   "metadata": {},
   "source": [
    "Extract a set of normalized tables. That is, each entry of a normalized table must contain exactly one value (not a list or a dictionary)"
   ]
  }
 ],
 "metadata": {
  "kernelspec": {
   "display_name": "Python 3",
   "language": "python",
   "name": "python3"
  },
  "language_info": {
   "codemirror_mode": {
    "name": "ipython",
    "version": 3
   },
   "file_extension": ".py",
   "mimetype": "text/x-python",
   "name": "python",
   "nbconvert_exporter": "python",
   "pygments_lexer": "ipython3",
   "version": "3.6.2"
  }
 },
 "nbformat": 4,
 "nbformat_minor": 2
}
