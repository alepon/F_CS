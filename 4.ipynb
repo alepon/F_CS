{
 "cells": [
  {
   "cell_type": "code",
   "execution_count": 1,
   "metadata": {
    "collapsed": true
   },
   "outputs": [],
   "source": [
    "import pandas as pd\n",
    "import numpy as np"
   ]
  },
  {
   "cell_type": "code",
   "execution_count": 2,
   "metadata": {
    "collapsed": true
   },
   "outputs": [],
   "source": [
    "movies = pd.read_csv('tmdb_5000_movies.csv')\n",
    "credits = pd.read_csv('tmdb_5000_credits.csv')"
   ]
  },
  {
   "cell_type": "code",
   "execution_count": 3,
   "metadata": {
    "collapsed": true
   },
   "outputs": [],
   "source": [
    "def normalizza(titolo, movie_id, colonna, dataset):\n",
    "    norm = dataset[colonna].apply(pd.read_json)\n",
    "    title = dataset[titolo]\n",
    "    movie = dataset[movie_id]\n",
    "    for num in range(len(dataset)):\n",
    "        norm[num][titolo] = title[num]\n",
    "        norm[num][movie_id] = movie[num]\n",
    "    return pd.concat(norm.values).reset_index().drop('index', axis = 1)"
   ]
  },
  {
   "cell_type": "markdown",
   "metadata": {},
   "source": [
    "1) For each movie, compute the number of cast members"
   ]
  },
  {
   "cell_type": "code",
   "execution_count": 4,
   "metadata": {
    "collapsed": true
   },
   "outputs": [],
   "source": [
    "cast = normalizza('title', 'movie_id', 'cast', credits)\n",
    "cast_number = cast.groupby(['movie_id', 'title']).size()\n",
    "cast_number = cast_number.to_frame().rename(columns= {0: 'cast_number'}).reset_index()"
   ]
  },
  {
   "cell_type": "markdown",
   "metadata": {},
   "source": [
    "2) How many movies do not have a homepage?"
   ]
  },
  {
   "cell_type": "code",
   "execution_count": 5,
   "metadata": {},
   "outputs": [
    {
     "data": {
      "text/plain": [
       "3091"
      ]
     },
     "execution_count": 5,
     "metadata": {},
     "output_type": "execute_result"
    }
   ],
   "source": [
    "len(movies['homepage']) - len(movies['homepage'].dropna())"
   ]
  },
  {
   "cell_type": "markdown",
   "metadata": {},
   "source": [
    "3) For each year, how many movies do not have a homepage?"
   ]
  },
  {
   "cell_type": "code",
   "execution_count": 6,
   "metadata": {},
   "outputs": [
    {
     "name": "stderr",
     "output_type": "stream",
     "text": [
      "C:\\Users\\aless\\Anaconda3\\lib\\site-packages\\ipykernel_launcher.py:2: FutureWarning: currently extract(expand=None) means expand=False (return Index/Series/DataFrame) but in a future version of pandas this will be changed to expand=True (return DataFrame)\n",
      "  \n",
      "C:\\Users\\aless\\Anaconda3\\lib\\site-packages\\ipykernel_launcher.py:2: SettingWithCopyWarning: \n",
      "A value is trying to be set on a copy of a slice from a DataFrame.\n",
      "Try using .loc[row_indexer,col_indexer] = value instead\n",
      "\n",
      "See the caveats in the documentation: http://pandas.pydata.org/pandas-docs/stable/indexing.html#indexing-view-versus-copy\n",
      "  \n"
     ]
    }
   ],
   "source": [
    "moviey = movies[movies['homepage'].isnull()]\n",
    "moviey['year'] = movies['release_date'].str.extract('(.*)-(.*)-(.*)')[0]\n",
    "moviey = moviey.groupby('year').size()"
   ]
  },
  {
   "cell_type": "markdown",
   "metadata": {},
   "source": [
    "4) Extract the domain of each homepage."
   ]
  },
  {
   "cell_type": "code",
   "execution_count": 7,
   "metadata": {},
   "outputs": [
    {
     "name": "stderr",
     "output_type": "stream",
     "text": [
      "C:\\Users\\aless\\Anaconda3\\lib\\site-packages\\ipykernel_launcher.py:12: SettingWithCopyWarning: \n",
      "A value is trying to be set on a copy of a slice from a DataFrame\n",
      "\n",
      "See the caveats in the documentation: http://pandas.pydata.org/pandas-docs/stable/indexing.html#indexing-view-versus-copy\n",
      "  if sys.path[0] == '':\n",
      "C:\\Users\\aless\\Anaconda3\\lib\\site-packages\\ipykernel_launcher.py:15: SettingWithCopyWarning: \n",
      "A value is trying to be set on a copy of a slice from a DataFrame\n",
      "\n",
      "See the caveats in the documentation: http://pandas.pydata.org/pandas-docs/stable/indexing.html#indexing-view-versus-copy\n",
      "  from ipykernel import kernelapp as app\n",
      "C:\\Users\\aless\\Anaconda3\\lib\\site-packages\\ipykernel_launcher.py:26: SettingWithCopyWarning: \n",
      "A value is trying to be set on a copy of a slice from a DataFrame\n",
      "\n",
      "See the caveats in the documentation: http://pandas.pydata.org/pandas-docs/stable/indexing.html#indexing-view-versus-copy\n",
      "C:\\Users\\aless\\Anaconda3\\lib\\site-packages\\pandas\\core\\indexing.py:179: SettingWithCopyWarning: \n",
      "A value is trying to be set on a copy of a slice from a DataFrame\n",
      "\n",
      "See the caveats in the documentation: http://pandas.pydata.org/pandas-docs/stable/indexing.html#indexing-view-versus-copy\n",
      "  self._setitem_with_indexer(indexer, value)\n"
     ]
    }
   ],
   "source": [
    "import tldextract\n",
    "movie_d = movies['homepage'].dropna()\n",
    "movie_d = movie_d.to_frame()\n",
    "movie_d['indice'] = -1\n",
    "salva_doppi = pd.DataFrame()\n",
    "salva_doppi['index'] = 0\n",
    "conta = 0\n",
    "for riga in movie_d.index:\n",
    "    url = movie_d['homepage'][riga]\n",
    "    url = url.split()\n",
    "    if(len(url) != 1):\n",
    "        movie_d['indice'][riga] = riga\n",
    "        salva_doppi = salva_doppi.append(url)\n",
    "        for split in range(conta,len(url)):\n",
    "            salva_doppi['index'][split] = riga\n",
    "        conta = conta + len(url)\n",
    "salva_doppi = salva_doppi.rename(columns = {0: 'homepage'})\n",
    "movie_d = movie_d.drop(movie_d[movie_d['indice'] != -1].index)\n",
    "movie_d = movie_d.reset_index()\n",
    "movie_d = movie_d.drop('indice', axis = 1)\n",
    "movie_d = movie_d.append(salva_doppi)\n",
    "movie_d = movie_d.reset_index().drop('level_0', axis = 1)\n",
    "movie_d['domain'] = 0\n",
    "for riga in movie_d.index:\n",
    "    url = movie_d['homepage'][riga]\n",
    "    movie_d['domain'][riga] = tldextract.extract(url).suffix\n",
    "movie_t = movies['original_title']\n",
    "movie_t = movie_t.to_frame()\n",
    "movie_t = movie_t.reset_index()\n",
    "movie_d = pd.merge(left = movie_d, right = movie_t, on = 'index')\n",
    "movie_d = movie_d.set_index('index')"
   ]
  },
  {
   "cell_type": "markdown",
   "metadata": {},
   "source": [
    "5) Extract a set of normalized tables. That is, each entry of a normalized table must contain exactly one value (not a list or a dictionary)"
   ]
  },
  {
   "cell_type": "code",
   "execution_count": 8,
   "metadata": {
    "collapsed": true
   },
   "outputs": [],
   "source": [
    "movies_n = movies.drop(['genres', 'keywords', 'production_companies', 'production_countries', 'spoken_languages'], axis = 1)\n",
    "credits_n = credits.drop(['cast', 'crew'], axis = 1)\n",
    "genres = normalizza('original_title', 'id','genres', movies)\n",
    "keywords = normalizza('original_title', 'id', 'keywords', movies)\n",
    "production_companies = normalizza('original_title', 'id','production_companies', movies)\n",
    "production_countries = normalizza('original_title', 'id', 'production_countries', movies).rename(columns = \n",
    "                                                                                                 {'iso_3166_1':'country_id'})\n",
    "spoken_languages = normalizza('original_title', 'id', 'spoken_languages', movies).rename(columns = \n",
    "                                                                                              {'iso_639_1':'language_id'})\n",
    "crew = normalizza('title', 'movie_id','crew', credits)"
   ]
  },
  {
   "cell_type": "markdown",
   "metadata": {},
   "source": [
    "6) For each movie, compute the gross margin (difference between revenue and budget)\n"
   ]
  },
  {
   "cell_type": "code",
   "execution_count": 9,
   "metadata": {
    "collapsed": true
   },
   "outputs": [],
   "source": [
    "movies_n['gross_margin'] = movies_n['revenue'] - movies_n['budget']"
   ]
  },
  {
   "cell_type": "markdown",
   "metadata": {},
   "source": [
    "7) For each movie, compute the number of crew members"
   ]
  },
  {
   "cell_type": "code",
   "execution_count": 10,
   "metadata": {
    "collapsed": true
   },
   "outputs": [],
   "source": [
    "crew_number = crew.groupby(['movie_id', 'title']).count()['credit_id']"
   ]
  },
  {
   "cell_type": "markdown",
   "metadata": {},
   "source": [
    "8) For each movie, compute the number of directors"
   ]
  },
  {
   "cell_type": "code",
   "execution_count": 11,
   "metadata": {
    "collapsed": true
   },
   "outputs": [],
   "source": [
    "directors = (crew[crew['job'] == 'Director']).groupby(['movie_id', 'title']).size()"
   ]
  },
  {
   "cell_type": "markdown",
   "metadata": {},
   "source": [
    "9) For each language, compute the number of movies where such language is spoken."
   ]
  },
  {
   "cell_type": "code",
   "execution_count": 12,
   "metadata": {
    "collapsed": true
   },
   "outputs": [],
   "source": [
    "movies_language = spoken_languages.groupby(['language_id', 'name']).size()"
   ]
  },
  {
   "cell_type": "markdown",
   "metadata": {},
   "source": [
    "10) For each company and each decade, compute the overall revenue"
   ]
  },
  {
   "cell_type": "code",
   "execution_count": 15,
   "metadata": {},
   "outputs": [
    {
     "name": "stderr",
     "output_type": "stream",
     "text": [
      "C:\\Users\\aless\\Anaconda3\\lib\\site-packages\\ipykernel_launcher.py:1: FutureWarning: currently extract(expand=None) means expand=False (return Index/Series/DataFrame) but in a future version of pandas this will be changed to expand=True (return DataFrame)\n",
      "  \"\"\"Entry point for launching an IPython kernel.\n",
      "C:\\Users\\aless\\Anaconda3\\lib\\site-packages\\ipykernel_launcher.py:2: FutureWarning: currently extract(expand=None) means expand=False (return Index/Series/DataFrame) but in a future version of pandas this will be changed to expand=True (return DataFrame)\n",
      "  \n"
     ]
    }
   ],
   "source": [
    "movies_n['year'] = movies_n['release_date'].str.extract('(.*)-(.*)-(.*)')[0]\n",
    "movies_n['decade'] = (movies_n['year'].str.extract('(\\d\\d\\d)')) + '0'\n",
    "movies_companies = movies_n.merge(production_companies, on = 'id')\n",
    "overall_revenue = movies_companies.groupby(['name', 'decade']).sum()['revenue']"
   ]
  },
  {
   "cell_type": "markdown",
   "metadata": {},
   "source": [
    "11) For each decade, compute the company with maximum revenue"
   ]
  },
  {
   "cell_type": "code",
   "execution_count": 17,
   "metadata": {
    "collapsed": true
   },
   "outputs": [],
   "source": [
    "maximum_revenue = movies_companies.groupby(['decade']).max()['revenue'].to_frame()\n",
    "max_revenue = maximum_revenue.merge(movies_companies, on = 'revenue')\n",
    "max_revenues = max_revenue[['revenue', 'decade', 'name']]"
   ]
  },
  {
   "cell_type": "markdown",
   "metadata": {},
   "source": [
    "12) In each year, how many movies have revenue smaller than the budget?"
   ]
  },
  {
   "cell_type": "code",
   "execution_count": 18,
   "metadata": {
    "collapsed": true
   },
   "outputs": [],
   "source": [
    "movies_sm = (movies_n[movies_n['gross_margin'] < 0]).groupby('year').size()"
   ]
  },
  {
   "cell_type": "markdown",
   "metadata": {},
   "source": [
    "13) Distribute the revenue according to the order of appearance in a movie. Assume that the i-th actor contributes twice as much as the (i+1)-th actor to the revenue."
   ]
  },
  {
   "cell_type": "code",
   "execution_count": 31,
   "metadata": {
    "collapsed": true
   },
   "outputs": [],
   "source": [
    "import math\n",
    "cast_ = cast[['name', 'order', 'title']]\n",
    "movies_ = movies_n[['original_title', 'revenue']]\n",
    "cast_movies = pd.merge(left = cast_, right = movies_, left_on = 'title', right_on = 'original_title').drop('original_title',\n",
    "                                                                                                          axis = 1)\n",
    "number_actor = cast_movies.groupby('title').size().to_frame().reset_index().rename(columns = {0: 'number_actor'})\n",
    "cast_movies = pd.merge(left = cast_movies, right = number_actor, on = 'title')\n",
    "massimo = cast_movies.groupby('title').max()['order'].to_frame().reset_index().rename(columns = {'order' : 'max_order'})\n",
    "cast_movies = pd.merge(left = cast_movies, right = massimo, on = 'title')\n",
    "cast_movies['ordine'] = cast_movies['number_actor'] - cast_movies['max_order'] + cast_movies['order']\n",
    "cast_movies = cast_movies.drop('order', axis = 1).rename(columns = {'ordine' : 'order'}).drop('max_order', axis = 1)\n",
    "def exp(x):\n",
    "    return math.pow(2, x)\n",
    "cast_movies['exp'] = cast_movies['number_actor'].apply(exp)\n",
    "cast_movies['exp'] = cast_movies['exp'] - 1 \n",
    "cast_movies['part'] = cast_movies['revenue'] / cast_movies['exp']\n",
    "ordine = {}\n",
    "index = 0\n",
    "for titoli in cast_movies['title'].unique():\n",
    "    massimo = len(cast_movies[cast_movies['title'] == titoli])\n",
    "    for numero in range(0, massimo):\n",
    "        ordine[index] = massimo - numero - 1\n",
    "        index = index + 1\n",
    "ordine = pd.DataFrame.from_dict(ordine, orient = 'index')\n",
    "ordine = ordine.rename(columns = {0 : 'c_order'})\n",
    "cast_movies['c_order'] = ordine['c_order']\n",
    "cast_movies['order'] = cast_movies['number_actor'] - cast_movies['c_order']\n",
    "def fattore(x):\n",
    "    return math.pow(2, x)\n",
    "cast_movies['fattore'] = cast_movies['c_order'].apply(fattore)\n",
    "cast_movies['revenue_part'] = cast_movies['fattore'] * cast_movies['part']\n",
    "cast_movies = cast_movies[['name', 'title', 'order', 'revenue', 'revenue_part']]\n",
    "somma = cast_movies.groupby('title').sum()['revenue_part'].reset_index().rename(columns = {'revenue_part' : 'revenue_sum'})\n",
    "cast_movies = pd.merge(left = cast_movies, right = somma, on = 'title')\n",
    "def to_integer(x):\n",
    "    return int(x)\n",
    "cast_movies['revenue_part'] = cast_movies['revenue_part'].apply(to_integer)\n",
    "cast_movies['revenue_sum'] = cast_movies['revenue_sum'].apply(to_integer)"
   ]
  },
  {
   "cell_type": "markdown",
   "metadata": {},
   "source": [
    "14) For each actor find the total revenue attributed to him/her."
   ]
  },
  {
   "cell_type": "code",
   "execution_count": 115,
   "metadata": {
    "collapsed": true
   },
   "outputs": [],
   "source": [
    "actor_revenue = cast_movies.groupby('name').sum()['revenue_part'].to_frame().rename(columns = {'revenue_part' :\n",
    "                                                                                              'total_revenue'}).reset_index()"
   ]
  },
  {
   "cell_type": "markdown",
   "metadata": {},
   "source": [
    "15) Find the actor that is responsible for the most overall revenue."
   ]
  },
  {
   "cell_type": "code",
   "execution_count": 121,
   "metadata": {},
   "outputs": [
    {
     "data": {
      "text/html": [
       "<div>\n",
       "<style>\n",
       "    .dataframe thead tr:only-child th {\n",
       "        text-align: right;\n",
       "    }\n",
       "\n",
       "    .dataframe thead th {\n",
       "        text-align: left;\n",
       "    }\n",
       "\n",
       "    .dataframe tbody tr th {\n",
       "        vertical-align: top;\n",
       "    }\n",
       "</style>\n",
       "<table border=\"1\" class=\"dataframe\">\n",
       "  <thead>\n",
       "    <tr style=\"text-align: right;\">\n",
       "      <th></th>\n",
       "      <th>name</th>\n",
       "      <th>total_revenue</th>\n",
       "    </tr>\n",
       "  </thead>\n",
       "  <tbody>\n",
       "    <tr>\n",
       "      <th>48131</th>\n",
       "      <td>Tom Cruise</td>\n",
       "      <td>3.976120e+09</td>\n",
       "    </tr>\n",
       "  </tbody>\n",
       "</table>\n",
       "</div>"
      ],
      "text/plain": [
       "             name  total_revenue\n",
       "48131  Tom Cruise   3.976120e+09"
      ]
     },
     "execution_count": 121,
     "metadata": {},
     "output_type": "execute_result"
    }
   ],
   "source": [
    "actor_revenue[actor_revenue['total_revenue'] == np.max(actor_revenue['total_revenue'])]"
   ]
  }
 ],
 "metadata": {
  "kernelspec": {
   "display_name": "Python 3",
   "language": "python",
   "name": "python3"
  },
  "language_info": {
   "codemirror_mode": {
    "name": "ipython",
    "version": 3
   },
   "file_extension": ".py",
   "mimetype": "text/x-python",
   "name": "python",
   "nbconvert_exporter": "python",
   "pygments_lexer": "ipython3",
   "version": "3.6.2"
  }
 },
 "nbformat": 4,
 "nbformat_minor": 2
}
